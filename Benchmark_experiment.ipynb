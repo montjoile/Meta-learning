{
  "nbformat": 4,
  "nbformat_minor": 0,
  "metadata": {
    "colab": {
      "name": "Benchmark experiment.ipynb",
      "version": "0.3.2",
      "provenance": [],
      "collapsed_sections": [
        "dtcKVltuyUvP",
        "0K8k-O3ryJXo",
        "A0VufPXYAE6A"
      ],
      "machine_shape": "hm",
      "include_colab_link": true
    },
    "kernelspec": {
      "name": "python3",
      "display_name": "Python 3"
    },
    "accelerator": "GPU"
  },
  "cells": [
    {
      "cell_type": "markdown",
      "metadata": {
        "id": "view-in-github",
        "colab_type": "text"
      },
      "source": [
        "<a href=\"https://colab.research.google.com/github/montjoile/Meta-learning/blob/master/Benchmark_experiment.ipynb\" target=\"_parent\"><img src=\"https://colab.research.google.com/assets/colab-badge.svg\" alt=\"Open In Colab\"/></a>"
      ]
    },
    {
      "cell_type": "markdown",
      "metadata": {
        "id": "zufrzcGUi6KZ",
        "colab_type": "text"
      },
      "source": [
        "#Fine Tunning using ResNet50 benchmark\n",
        "\n",
        "Benchmarking experiments usingn ResNet50 with random weights initialization.\n",
        "\n",
        "Results:\n",
        "\n",
        "* Jaccard Similarity index = 23.98\n",
        "* F1-score = 0.39"
      ]
    },
    {
      "cell_type": "markdown",
      "metadata": {
        "id": "dtcKVltuyUvP",
        "colab_type": "text"
      },
      "source": [
        "### Mount Google drive"
      ]
    },
    {
      "cell_type": "code",
      "metadata": {
        "id": "4ehadjBcyaAf",
        "colab_type": "code",
        "outputId": "57520969-e095-4e5a-b37a-40037f77997f",
        "colab": {
          "base_uri": "https://localhost:8080/"
        }
      },
      "source": [
        "# Run this cell to mount your Google Drive.\n",
        "from google.colab import drive\n",
        "drive.mount('/content/drive')"
      ],
      "execution_count": 0,
      "outputs": [
        {
          "output_type": "stream",
          "text": [
            "Go to this URL in a browser: https://accounts.google.com/o/oauth2/auth?client_id=947318989803-6bn6qk8qdgf4n4g3pfee6491hc0brc4i.apps.googleusercontent.com&redirect_uri=urn%3Aietf%3Awg%3Aoauth%3A2.0%3Aoob&scope=email%20https%3A%2F%2Fwww.googleapis.com%2Fauth%2Fdocs.test%20https%3A%2F%2Fwww.googleapis.com%2Fauth%2Fdrive%20https%3A%2F%2Fwww.googleapis.com%2Fauth%2Fdrive.photos.readonly%20https%3A%2F%2Fwww.googleapis.com%2Fauth%2Fpeopleapi.readonly&response_type=code\n",
            "\n",
            "Enter your authorization code:\n",
            "··········\n",
            "Mounted at /content/drive\n"
          ],
          "name": "stdout"
        }
      ]
    },
    {
      "cell_type": "markdown",
      "metadata": {
        "id": "0K8k-O3ryJXo",
        "colab_type": "text"
      },
      "source": [
        "###Import Libraries"
      ]
    },
    {
      "cell_type": "code",
      "metadata": {
        "id": "KQDJpJPnyIq5",
        "colab_type": "code",
        "outputId": "f93b8271-f3fa-4f55-b21c-32edffedd1e5",
        "colab": {
          "base_uri": "https://localhost:8080/"
        }
      },
      "source": [
        "import timeit\n",
        "import pandas as pd\n",
        "import numpy as np\n",
        "import os\n",
        "from keras.utils import np_utils\n",
        "from sklearn.utils import shuffle, class_weight\n",
        "from PIL import Image\n",
        "from keras.preprocessing import image\n",
        "from collections import Counter\n",
        "import matplotlib.pyplot as plt\n",
        "from sklearn.model_selection import train_test_split\n",
        "import keras\n",
        "from keras.models import Sequential, load_model\n",
        "from keras.layers import Activation, Dense, Dropout, Flatten, Conv2D, MaxPooling2D, BatchNormalization, GlobalAveragePooling2D, Input\n",
        "from keras.preprocessing.image import ImageDataGenerator, array_to_img, img_to_array, load_img\n",
        "import cv2\n",
        "import shutil\n",
        "from keras.callbacks import ModelCheckpoint, EarlyStopping\n",
        "from keras import models\n",
        "from sklearn.model_selection import KFold, StratifiedKFold, StratifiedShuffleSplit\n",
        "from keras import optimizers\n",
        "from sklearn.metrics import classification_report, precision_recall_fscore_support\n",
        "import sklearn.metrics as metrics\n",
        "from imblearn.keras import BalancedBatchGenerator\n",
        "from sklearn.metrics import roc_auc_score, confusion_matrix, accuracy_score\n",
        "import pandas as pd\n",
        "from pathlib import Path\n",
        "import time\n",
        "import matplotlib.image as mpimg\n",
        "import math\n",
        "import seaborn as sn\n",
        "from mpl_toolkits.axes_grid1 import make_axes_locatable\n",
        "import matplotlib as mpl\n",
        "import itertools\n",
        "import seaborn as sns\n",
        "from keras.applications.resnet50 import ResNet50\n",
        "from keras.models import Model, load_model\n",
        "from keras import backend as K\n",
        "import tensorflow as tf\n",
        "from sklearn.utils import class_weight\n",
        "from sklearn.metrics import f1_score\n",
        "\n",
        "np.seed = 42"
      ],
      "execution_count": 0,
      "outputs": [
        {
          "output_type": "stream",
          "text": [
            "Using TensorFlow backend.\n",
            "/usr/local/lib/python3.6/dist-packages/sklearn/externals/six.py:31: DeprecationWarning: The module is deprecated in version 0.21 and will be removed in version 0.23 since we've dropped support for Python 2.7. Please rely on the official version of six (https://pypi.org/project/six/).\n",
            "  \"(https://pypi.org/project/six/).\", DeprecationWarning)\n"
          ],
          "name": "stderr"
        }
      ]
    },
    {
      "cell_type": "markdown",
      "metadata": {
        "id": "A0VufPXYAE6A",
        "colab_type": "text"
      },
      "source": [
        "###Load data"
      ]
    },
    {
      "cell_type": "code",
      "metadata": {
        "id": "0nUC0o8p8Fn_",
        "colab_type": "code",
        "colab": {}
      },
      "source": [
        "#read dataset with path of images\n",
        "df_melanoma = pd.read_csv('/content/drive/My Drive/meta-learning/df_melanoma_colab.csv')\n",
        "df_melanoma['is_melanoma'] = pd.np.where(df_melanoma['class'].str.contains('melanoma'), 'melanoma', 'not melanoma')\n",
        "malignant = pd.np.where(df_melanoma['class'].isin({'basal-cell-carcinoma', 'basal_cell_carcinoma', 'squamous_cell_carcinoma'}))\n",
        "melanoma = pd.np.where(df_melanoma['class'].str.contains('melanoma'))\n",
        "df_melanoma['label'] = 'benign'\n",
        "df_melanoma['label-encoded'] = int('1')#\n",
        "\n",
        "\n",
        "malignant = np.array(malignant).flatten()\n",
        "melanoma = np.array(melanoma).flatten()\n",
        "df_melanoma.loc[malignant, 'label'] = 'malignant'\n",
        "df_melanoma.loc[melanoma, 'label'] = 'melanoma'\n",
        "df_melanoma.loc[malignant,'label-encoded'] = int('2')#\n",
        "df_melanoma.loc[melanoma, 'label-encoded'] = int('3')#\n",
        "\n",
        "#create dataset name codes\n",
        "dataset_codename = {\n",
        "    'addi-melanoma':1,\n",
        "    'derm7pt-melanoma':2,\n",
        "    'skin-melanoma':3\n",
        "}\n",
        "\n",
        "dataset_label_codename = {\n",
        "    'benign' : int('1'),\n",
        "    'malignant' : int('2'),\n",
        "    'melanoma' : int('3')\n",
        "}"
      ],
      "execution_count": 0,
      "outputs": []
    },
    {
      "cell_type": "code",
      "metadata": {
        "id": "26McPONfrJiq",
        "colab_type": "code",
        "outputId": "a7e3db99-354a-4aac-97fb-92ccd0e15a3a",
        "colab": {
          "base_uri": "https://localhost:8080/",
          "height": 34
        }
      },
      "source": [
        "Counter(df_melanoma['dataset-name'])"
      ],
      "execution_count": 0,
      "outputs": [
        {
          "output_type": "execute_result",
          "data": {
            "text/plain": [
              "Counter({'addi-melanoma': 9, 'derm7pt-melanoma': 160, 'skin-melanoma': 24})"
            ]
          },
          "metadata": {
            "tags": []
          },
          "execution_count": 4
        }
      ]
    },
    {
      "cell_type": "markdown",
      "metadata": {
        "id": "7LwpeyBYA8Uk",
        "colab_type": "text"
      },
      "source": [
        "###Functions definition"
      ]
    },
    {
      "cell_type": "code",
      "metadata": {
        "id": "kcj6xvsJc9tz",
        "colab_type": "code",
        "colab": {}
      },
      "source": [
        "#create generators\n",
        "def create_generators(x_train, x_test, label_col):\n",
        "  img_height = 256\n",
        "  img_width = 256\n",
        "  img_dimension = 3\n",
        "\n",
        "  #train datagenerator\n",
        "  datagen = ImageDataGenerator(rescale=1./255, validation_split=0.2)\n",
        "  train_generator = datagen.flow_from_dataframe(\n",
        "          dataframe=x_train,\n",
        "          x_col='path',\n",
        "          y_col=label_col,\n",
        "          subset='training',\n",
        "          target_size=(256, 256),\n",
        "          batch_size=32,\n",
        "          shuffle=True,\n",
        "          color_mode='rgb',\n",
        "          class_mode='categorical')\n",
        "  \n",
        "  #valid datagenerator\n",
        "  valid_generator=datagen.flow_from_dataframe(\n",
        "          dataframe=x_train,\n",
        "          x_col='path',\n",
        "          y_col=label_col,\n",
        "          subset='validation',\n",
        "          target_size=(256,256),\n",
        "          batch_size=32,\n",
        "          shuffle=True,\n",
        "          color_mode='rgb',\n",
        "          class_mode='categorical')\n",
        "\n",
        "  #test datagenerator\n",
        "  testgen = ImageDataGenerator()\n",
        "  test_generator = testgen.flow_from_dataframe(\n",
        "          dataframe=x_test,\n",
        "          x_col='path',\n",
        "          y_col=label_col,\n",
        "          target_size=(256, 256),\n",
        "          batch_size=32,\n",
        "          shuffle=False,\n",
        "          color_mode='rgb',\n",
        "          class_mode='categorical')\n",
        "  \n",
        "  return train_generator, valid_generator, test_generator"
      ],
      "execution_count": 0,
      "outputs": []
    },
    {
      "cell_type": "code",
      "metadata": {
        "id": "jsOAtlCre-Qt",
        "colab_type": "code",
        "colab": {}
      },
      "source": [
        "# create model\n",
        "def create_model(num_classes):\n",
        "  input_tensor = Input(shape=(256, 256, 3))  \n",
        "\n",
        "  # create the base pre-trained model\n",
        "  base_model = ResNet50(input_tensor=input_tensor,weights=None,include_top=False)\n",
        "\n",
        "  #freeze weights\n",
        "  for layer in base_model.layers:\n",
        "      layer.trainable=False\n",
        "\n",
        "  #add dense layer\n",
        "  x = base_model.output\n",
        "  x = GlobalAveragePooling2D(data_format='channels_last')(x)\n",
        "  x = Dense(num_classes, activation='softmax')(x)\n",
        "\n",
        "  updatedModel = Model(base_model.input, x)\n",
        "\n",
        "  updatedModel.compile(loss='categorical_crossentropy', \n",
        "                  optimizer = keras.optimizers.SGD(\n",
        "                      lr=0.0001, \n",
        "                      momentum=0.9, \n",
        "                      nesterov=True),\n",
        "                  metrics=[\"accuracy\"])\n",
        "\n",
        "  return updatedModel"
      ],
      "execution_count": 0,
      "outputs": []
    },
    {
      "cell_type": "code",
      "metadata": {
        "id": "4_bH2dxBiLdN",
        "colab_type": "code",
        "colab": {}
      },
      "source": [
        "# fit model \n",
        "def train_model(model, train_generator, valid_generator, weight_checkpoint):\n",
        "  \n",
        "  nb_epochs = 3 \n",
        "  STEP_SIZE_TRAIN=math.ceil(train_generator.n/nb_epochs)\n",
        "  STEP_SIZE_VALID=math.ceil(valid_generator.n/nb_epochs)\n",
        "  es = EarlyStopping(monitor='val_loss', mode='min', verbose=1, patience=20)\n",
        "  \n",
        "  history = model.fit_generator(generator=train_generator,\n",
        "                                           steps_per_epoch=STEP_SIZE_TRAIN,\n",
        "                                           validation_data=valid_generator,\n",
        "                                           validation_steps=STEP_SIZE_VALID,\n",
        "                                           callbacks=[es, weight_checkpoint]\n",
        "                                           epochs=nb_epochs)\n",
        "  best_weights_model = load_model(weight_checkpoint.filepath)\n",
        "  \n",
        "  return history.history['acc'], history.history['loss'], history.history['val_acc'], history.history['val_loss'], best_weights_model"
      ],
      "execution_count": 0,
      "outputs": []
    },
    {
      "cell_type": "code",
      "metadata": {
        "id": "XQn1MN3Q2UUl",
        "colab_type": "code",
        "colab": {}
      },
      "source": [
        "#get predictions\n",
        "def predict_model(model, test_generator):\n",
        "  STEP_SIZE_TEST=math.ceil(test_generator.n/test_generator.batch_size)\n",
        "  true_labels = test_generator.classes\n",
        "  test_generator.reset()\n",
        "\n",
        "  predictions = model.predict_generator(test_generator, steps=STEP_SIZE_TEST) \n",
        "  y_true = true_labels\n",
        "  y_pred = np.array([np.argmax(x) for x in predictions])\n",
        "  return y_true, y_pred"
      ],
      "execution_count": 0,
      "outputs": []
    },
    {
      "cell_type": "code",
      "metadata": {
        "id": "Oek1jQTwFdqM",
        "colab_type": "code",
        "colab": {}
      },
      "source": [
        "#evaluate model\n",
        "def evaluate_model(model, test_generator):\n",
        "  STEP_SIZE_TEST=math.ceil(test_generator.n/test_generator.batch_size)\n",
        "\n",
        "  loss, acc = model.evaluate_generator(generator=test_generator, steps=STEP_SIZE_TEST)\n",
        "  return loss, acc"
      ],
      "execution_count": 0,
      "outputs": []
    },
    {
      "cell_type": "code",
      "metadata": {
        "id": "Q6V_mh2KdkYo",
        "colab_type": "code",
        "colab": {}
      },
      "source": [
        "def plot_confusion_matrix(confusion_matrix, class_names):\n",
        "  mpl.style.use('seaborn')\n",
        "  conf_arr = np.array([[88,14,4],[12,85,11],[5,15,91]])\n",
        "  sum = conf_arr.sum()\n",
        "  conf_arr = conf_arr * 100.0 / ( 1.0 * sum )\n",
        "\n",
        "  df_cm = pd.DataFrame(confusion_matrix, index=class_names, columns=class_names)\n",
        "\n",
        "  fig = plt.figure()\n",
        "  plt.clf()\n",
        "  ax = fig.add_subplot(111)\n",
        "  ax.set_aspect(1)\n",
        "\n",
        "  cmap = sns.cubehelix_palette(rot=-.4)\n",
        "  res = sn.heatmap(df_cm, annot=True, vmin=0.0, vmax=100.0, fmt='d', cmap=cmap)\n",
        "  res.invert_yaxis()\n",
        "  plt.yticks([0.5,1.5,2.5], class_names, va='center')\n",
        "  plt.title('Confusion Matrix')\n",
        "\n",
        "  #plt.savefig('confusion_matrix.png', dpi=100, bbox_inches='tight' )\n",
        "  #plt.close()"
      ],
      "execution_count": 0,
      "outputs": []
    },
    {
      "cell_type": "code",
      "metadata": {
        "id": "YF8ZrGaGgyBH",
        "colab_type": "code",
        "colab": {}
      },
      "source": [
        "#plot classification report\n",
        "def plot_classification_report(y_true, y_pred, class_names, figsize=(10, 10), ax=None):\n",
        "\n",
        "    plt.figure(figsize=figsize)\n",
        "\n",
        "    xticks = ['precision', 'recall', 'f1-score', 'support']\n",
        "    yticks = class_names\n",
        "\n",
        "    rep = np.array(precision_recall_fscore_support(y_true, y_pred)).T\n",
        "    avg = np.mean(rep, axis=0)\n",
        "    avg[-1] = np.sum(rep[:, -1])\n",
        "    rep = np.insert(rep, rep.shape[0], avg, axis=0)\n",
        "\n",
        "    cmap = sns.color_palette(\"ch:2.8,-.2,dark=.27\")\n",
        "    sns.heatmap(rep,\n",
        "                annot=True, \n",
        "                cbar=False, \n",
        "                xticklabels=xticks, \n",
        "                yticklabels=yticks,\n",
        "                fmt='.2f',\n",
        "                cmap=cmap,\n",
        "                ax=ax)"
      ],
      "execution_count": 0,
      "outputs": []
    },
    {
      "cell_type": "code",
      "metadata": {
        "id": "dZ7J9bkoWZjl",
        "colab_type": "code",
        "colab": {}
      },
      "source": [
        "#plot AUC ROC\n",
        "def auc_roc(y_true, y_pred):\n",
        "  fpr, tpr, thresholds = metrics.roc_curve(y_true, y_pred, pos_label=0)\n",
        "\n",
        "  #plot ROC\n",
        "  plt.plot(fpr,tpr)\n",
        "  plt.show() \n",
        "\n",
        "  #plot AUC\n",
        "  auc = np.trapz(tpr,fpr)\n",
        "  print('AUC:', auc)"
      ],
      "execution_count": 0,
      "outputs": []
    },
    {
      "cell_type": "code",
      "metadata": {
        "id": "iKn1FhexWo5U",
        "colab_type": "code",
        "colab": {}
      },
      "source": [
        "#plot curves of loss and accuracy during training\n",
        "def plot_acc_loss(acc, val_acc, loss, val_loss):\n",
        "  f = plt.figure(figsize=(15,5))\n",
        "  ax = f.add_subplot(121)\n",
        "  ax2 = f.add_subplot(122)\n",
        "  epochs = range(1, len(acc) + 1)\n",
        "\n",
        "  ax.plot(epochs, acc, 'g', label='Training acc')\n",
        "  ax.plot(epochs, val_acc, 'b', label='Validation acc')\n",
        "  ax.set_title('Training and validation accuracy')\n",
        "  ax.legend()\n",
        "\n",
        "  ax2.plot(epochs, loss, 'g', label='Training loss')\n",
        "  ax2.plot(epochs, val_loss, 'b', label='Validation loss')\n",
        "  ax2.set_title('Training and validation loss')\n",
        "  ax2.legend()"
      ],
      "execution_count": 0,
      "outputs": []
    },
    {
      "cell_type": "code",
      "metadata": {
        "id": "FNI1n73PWcvG",
        "colab_type": "code",
        "colab": {}
      },
      "source": [
        "#jaccard simmilarity index\n",
        "def jaccard_distance(y_true, y_pred, smooth=100):\n",
        "  y_true = tf.convert_to_tensor(actual, np.float32)\n",
        "  y_pred = tf.convert_to_tensor(predicted, np.float32)\n",
        "  sess = tf.InteractiveSession()  \n",
        "  intersection = K.sum(K.abs(y_true * y_pred), axis=-1)\n",
        "  sum_ = K.sum(K.abs(y_true) + K.abs(y_pred), axis=-1)\n",
        "  jac = (intersection + smooth) / (sum_ - intersection + smooth)\n",
        "  jc = (1 - jac) * smooth\n",
        "  return sess.run(jc)"
      ],
      "execution_count": 0,
      "outputs": []
    },
    {
      "cell_type": "markdown",
      "metadata": {
        "id": "3OyUHVbxs7qs",
        "colab_type": "text"
      },
      "source": [
        "###Experiment 1\n",
        "\n",
        "Train and evaluation in combined dataset"
      ]
    },
    {
      "cell_type": "code",
      "metadata": {
        "id": "cV3bBNvytAKj",
        "colab_type": "code",
        "colab": {}
      },
      "source": [
        "def experimento_1(dataset,file_name, num_classes):\n",
        "    \n",
        "  total_actual = []\n",
        "  total_predicted = []\n",
        "  total_acc = []\n",
        "  total_loss = []\n",
        "  total_val_acc = []\n",
        "  total_val_loss = []\n",
        "  total_acc_eval = []\n",
        "  total_loss_eval = []\n",
        "  total_test_accuracy = []\n",
        "\n",
        "  kf = StratifiedKFold(n_splits=3, shuffle=True)\n",
        "  n_splits = kf.get_n_splits(dataset['path'], dataset['label'])\n",
        "\n",
        "\n",
        "  for i, (train_index, test_index) in enumerate(kf.split(dataset['path'], dataset['label'])):  \n",
        "    X_train, X_test = dataset.iloc[train_index], dataset.iloc[test_index]\n",
        "    y_train, y_test = dataset.iloc[train_index]['label'], dataset.iloc[test_index]['label']      \n",
        "\n",
        "    #set weight checkpoint file\n",
        "    weight_checkpoint = ModelCheckpoint(filepath='/content/drive/My Drive/meta-learning/'+file_name+'.hdf5', \n",
        "                                 monitor = 'val_acc',\n",
        "                                 verbose=1, \n",
        "                                 save_best_only=True)\n",
        "\n",
        "    print('***** Running fold '+ str(i)+' *****')\n",
        "    print('train size: '+str(X_train.shape[0]))\n",
        "    print('test size: ' +str(X_test.shape[0]))\n",
        "    print('train class distribution: '+str(Counter(X_train['label'])))\n",
        "    print('test class distribution: '+str(Counter(X_test['label'])))\n",
        "\n",
        "    #create and evaluate model\n",
        "    model = None\n",
        "    model = create_model(num_classes)\n",
        "    train_generator, valid_generator, test_generator = create_generators(X_train, X_test, 'label')\n",
        "\n",
        "\n",
        "    acc, loss, val_acc, val_loss, best_model = train_model(model, train_generator, valid_generator, weight_checkpoint)\n",
        "    actual, predicted = predict_model(best_model, test_generator)\n",
        "    loss_eval, acc_eval = evaluate_model(best_model, test_generator)\n",
        "\n",
        "\n",
        "    #append validation accuracy and loss for average calculation later on\n",
        "    total_acc.append(acc)\n",
        "    total_loss.append(loss)\n",
        "    total_val_acc.append(val_acc)\n",
        "    total_val_loss.append(val_loss)\n",
        "\n",
        "    print('actual size:'+str(len(actual)))\n",
        "    print('predicted size:'+str(len(predicted)))\n",
        "\n",
        "    #append accuracy from the predictions on the test data\n",
        "    total_test_accuracy.append(accuracy_score(actual, predicted))\n",
        "\n",
        "    #append all of the actual and predicted classes for your final evaluation\n",
        "    total_actual.append(actual)\n",
        "    total_predicted.append(predicted)\n",
        "\n",
        "    total_loss_eval.append(loss_eval)\n",
        "    total_acc_eval.append(acc_eval)\n",
        "\n",
        "\n",
        "  #modify to plot\n",
        "  y_true = []\n",
        "  y_pred = []\n",
        "  v_acc = []\n",
        "  v_loss = []\n",
        "  v_val_acc = []\n",
        "  v_val_loss = []\n",
        "  v_acc_eval = []\n",
        "  v_loss_eval = []\n",
        "\n",
        "  for i in range(0, n_splits):\n",
        "    for j in range(0, len(total_actual[i])):\n",
        "      y_true.append(total_actual[i][j])\n",
        "\n",
        "  for i in range(0, n_splits):\n",
        "    for j in range(0, len(total_predicted[i])):\n",
        "      y_pred.append(total_predicted[i][j])\n",
        "\n",
        "  for i in range(0, n_splits):\n",
        "    for j in range(0, n_splits):\n",
        "      v_acc.append(total_acc[i][j])\n",
        "      v_loss.append(total_loss[i][j])\n",
        "      v_val_acc.append(total_val_acc[i][j])\n",
        "      v_val_loss.append(total_val_loss[i][j])\n",
        "      \n",
        "  for i in range(0, n_splits):\n",
        "    v_acc_eval.append(total_acc_eval[i])\n",
        "    v_loss_eval.append(total_loss_eval[i])\n",
        "    \n",
        "  \n",
        "  #save results\n",
        "  os.chdir('/content/drive/My Drive/meta-learning/')\n",
        "  np.save('acc_'+file_name, v_acc)\n",
        "  np.save('loss_'+file_name, v_loss)\n",
        "  np.save('val_acc_'+file_name, v_val_acc)\n",
        "  np.save('val_loss_'+file_name, v_val_loss)\n",
        "  np.save('acc_eval_'+file_name, total_acc_eval)\n",
        "  np.save('loss_eval_'+file_name, total_loss_eval)\n",
        "  np.save('actual_'+file_name, y_true)\n",
        "  np.save('predicted_'+file_name, y_pred)\n",
        "  np.save('total_test_accuracy_'+file_name, total_test_accuracy)\n",
        "  best_model.save(file_name+'.hdf5')\n",
        "      \n",
        "    \n",
        "    \n",
        "  return v_acc, v_loss, v_val_acc, v_val_loss, total_acc_eval, total_loss_eval, y_true, y_pred, total_test_accuracy, best_model\n"
      ],
      "execution_count": 0,
      "outputs": []
    },
    {
      "cell_type": "code",
      "metadata": {
        "id": "SZTjGNhH0MRh",
        "colab_type": "code",
        "colab": {}
      },
      "source": [
        "#no weights\n",
        "start = time.time()\n",
        "acc, loss, val_acc, val_loss, acc_eval, loss_eval, actual, predicted, total_test_accuracy, model = experimento_1(df_melanoma,'benchmark1', 3)\n",
        "end = time.time()\n",
        "print(end-start)"
      ],
      "execution_count": 0,
      "outputs": []
    },
    {
      "cell_type": "code",
      "metadata": {
        "id": "A_XnexjTOIbV",
        "colab_type": "code",
        "outputId": "d1e15f59-6b69-4dd2-a635-bc882553652c",
        "colab": {
          "base_uri": "https://localhost:8080/",
          "height": 122
        }
      },
      "source": [
        "#no weights\n",
        "print(jaccard_distance(actual, predicted))\n",
        "print(total_test_accuracy)\n",
        "print(f1_score(actual, predicted, average='weighted'))"
      ],
      "execution_count": 0,
      "outputs": [
        {
          "output_type": "stream",
          "text": [
            "23.987537\n",
            "[0.6923076923076923, 0.234375, 0.234375]\n",
            "0.39151527968700434\n"
          ],
          "name": "stdout"
        },
        {
          "output_type": "stream",
          "text": [
            "/usr/local/lib/python3.6/dist-packages/sklearn/metrics/classification.py:1437: UndefinedMetricWarning: F-score is ill-defined and being set to 0.0 in labels with no predicted samples.\n",
            "  'precision', 'predicted', average, warn_for)\n"
          ],
          "name": "stderr"
        }
      ]
    },
    {
      "cell_type": "code",
      "metadata": {
        "id": "JOnXJX1wOd00",
        "colab_type": "code",
        "outputId": "a2e1bf8e-c798-48a4-d2f4-ea7fdd22788b",
        "colab": {
          "base_uri": "https://localhost:8080/",
          "height": 356
        }
      },
      "source": [
        "#no weights\n",
        "plot_acc_loss(acc, val_acc, loss, val_loss)"
      ],
      "execution_count": 0,
      "outputs": [
        {
          "output_type": "display_data",
          "data": {
            "image/png": "[encoded data removed]",
            "text/plain": [
              "<Figure size 1080x360 with 2 Axes>"
            ]
          },
          "metadata": {
            "tags": []
          }
        }
      ]
    },
    {
      "cell_type": "code",
      "metadata": {
        "id": "i52jgqVKOgv5",
        "colab_type": "code",
        "outputId": "3095059d-569f-4fe4-f12a-fd9c30359fbf",
        "colab": {
          "base_uri": "https://localhost:8080/",
          "height": 362
        }
      },
      "source": [
        "plot_confusion_matrix(confusion_matrix(actual, predicted), {'benign', 'malignant', 'melanoma'})"
      ],
      "execution_count": 0,
      "outputs": [
        {
          "output_type": "display_data",
          "data": {
            "image/png": "[encoded data removed]",
            "text/plain": [
              "<Figure size 576x396 with 2 Axes>"
            ]
          },
          "metadata": {
            "tags": []
          }
        }
      ]
    },
    {
      "cell_type": "code",
      "metadata": {
        "id": "RnRoF0hzOj50",
        "colab_type": "code",
        "outputId": "76936a1e-9d07-4c41-bef3-61dd88bbff7b",
        "colab": {
          "base_uri": "https://localhost:8080/",
          "height": 646
        }
      },
      "source": [
        "plot_classification_report(actual, predicted, {'benign', 'malignant', 'melanoma'})"
      ],
      "execution_count": 0,
      "outputs": [
        {
          "output_type": "stream",
          "text": [
            "/usr/local/lib/python3.6/dist-packages/sklearn/metrics/classification.py:1437: UndefinedMetricWarning: Precision and F-score are ill-defined and being set to 0.0 in labels with no predicted samples.\n",
            "  'precision', 'predicted', average, warn_for)\n"
          ],
          "name": "stderr"
        },
        {
          "output_type": "display_data",
          "data": {
            "image/png": "[encoded data removed]",
            "text/plain": [
              "<Figure size 720x720 with 1 Axes>"
            ]
          },
          "metadata": {
            "tags": []
          }
        }
      ]
    }
  ]
}