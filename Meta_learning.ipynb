{
  "nbformat": 4,
  "nbformat_minor": 0,
  "metadata": {
    "colab": {
      "name": "Meta-learning.ipynb",
      "version": "0.3.2",
      "provenance": []
    },
    "kernelspec": {
      "name": "python3",
      "display_name": "Python 3"
    }
  },
  "cells": [
    {
      "cell_type": "markdown",
      "metadata": {
        "id": "pT7Uf2O4RpVQ",
        "colab_type": "text"
      },
      "source": [
        "# Meta-learning for medical image processing using Deep Learning techniques\n",
        "\n",
        "\n",
        "> Author: Sara Garcia\n",
        "\n",
        "###This notebook is intended to store the *first step* towards the study of meta-learning for medical image processing, which will contain the folllowing:\n",
        "\n",
        "\n",
        "\n",
        "*   Connect to Kaggle API\n",
        "*   Download the datasets\n",
        "*   Calculate similarity between datasets\n",
        "*   Find the inner meta-features for each dataset\n",
        "*   Calculate the distance between each meta-feature to find the most similar between all datasets\n",
        "\n"
      ]
    },
    {
      "cell_type": "markdown",
      "metadata": {
        "id": "7zWf3hBV8u2B",
        "colab_type": "text"
      },
      "source": [
        "## Install requirements"
      ]
    },
    {
      "cell_type": "code",
      "metadata": {
        "id": "o8RvT8zL8rO6",
        "colab_type": "code",
        "colab": {}
      },
      "source": [
        "#kaggle API client\n",
        "!pip install kaggle"
      ],
      "execution_count": 0,
      "outputs": []
    },
    {
      "cell_type": "markdown",
      "metadata": {
        "id": "LF6q-xTLGHDz",
        "colab_type": "text"
      },
      "source": [
        "##Import libraries"
      ]
    },
    {
      "cell_type": "code",
      "metadata": {
        "id": "8gbuc5D0GKLE",
        "colab_type": "code",
        "colab": {}
      },
      "source": [
        "import json\n",
        "import zipfile\n",
        "import os"
      ],
      "execution_count": 0,
      "outputs": []
    },
    {
      "cell_type": "code",
      "metadata": {
        "id": "QKgwK7QIJCgO",
        "colab_type": "code",
        "colab": {
          "base_uri": "https://localhost:8080/",
          "height": 54
        },
        "outputId": "1f629842-ed1d-4be3-a330-d7c4e0e9ad0a"
      },
      "source": [
        "# create .kaggle folder to store API token\n",
        "!mkdir .kaggle\n",
        "!ls -a"
      ],
      "execution_count": 3,
      "outputs": [
        {
          "output_type": "stream",
          "text": [
            " .   '{'\t\t\t .config    .kaggle\n",
            " ..   chest-xray-pneumonia.zip\t datasets   sample_data\n"
          ],
          "name": "stdout"
        }
      ]
    },
    {
      "cell_type": "code",
      "metadata": {
        "id": "NSZJLVEjF65w",
        "colab_type": "code",
        "colab": {}
      },
      "source": [
        "#kaggle API token obtained from kaggle website\n",
        "api_token = {\"username\":\"<user_name>\",\"key\":\"<key>\"}\n",
        "#save API token into drive\n",
        "with open('/content/.kaggle/kaggle.json', 'w') as file:\n",
        "    json.dump(api_token, file)"
      ],
      "execution_count": 0,
      "outputs": []
    },
    {
      "cell_type": "code",
      "metadata": {
        "id": "7fmvqxViJ0Sp",
        "colab_type": "code",
        "colab": {
          "base_uri": "https://localhost:8080/",
          "height": 35
        },
        "outputId": "32daa0d9-6662-402b-a8fc-5f7b2d336fc5"
      },
      "source": [
        "#set config in kaggle API\n",
        "!chmod 600 /content/.kaggle/kaggle.json\n",
        "!cp /content/.kaggle/kaggle.json ~/.kaggle/kaggle.json\n",
        "#!cp /content/.kaggle/kaggle.json ~/root/.kaggle/kaggle.json\n",
        "!kaggle config set -n path -v{/content}"
      ],
      "execution_count": 5,
      "outputs": [
        {
          "output_type": "stream",
          "text": [
            "- path is now set to: {/content}\n"
          ],
          "name": "stdout"
        }
      ]
    },
    {
      "cell_type": "markdown",
      "metadata": {
        "id": "35c7TquEGO-N",
        "colab_type": "text"
      },
      "source": [
        "##Download Kaggle datasets"
      ]
    },
    {
      "cell_type": "code",
      "metadata": {
        "id": "ai8YF3t1LsNm",
        "colab_type": "code",
        "colab": {}
      },
      "source": [
        "#creating folder to store all datasets\n",
        "os.mkdir('/content/datasets')"
      ],
      "execution_count": 0,
      "outputs": []
    },
    {
      "cell_type": "markdown",
      "metadata": {
        "id": "vtddnWjDQ675",
        "colab_type": "text"
      },
      "source": [
        "\n",
        "\n",
        "*   ### Chest-xray-pneumonia dataset:\n",
        "\n",
        "  *   https://www.kaggle.com/paultimothymooney/chest-xray-pneumonia\n",
        "\n",
        "\n",
        "![sample image](https://i.imgur.com/jZqpV51.png)\n"
      ]
    },
    {
      "cell_type": "code",
      "metadata": {
        "id": "7GtquYwOGv1S",
        "colab_type": "code",
        "colab": {
          "base_uri": "https://localhost:8080/",
          "height": 72
        },
        "outputId": "a80198a2-c1ff-4f2a-c204-c20c13a5377c"
      },
      "source": [
        "#download dataset into its directory\n",
        "os.mkdir('/content/datasets/chest-xray-pneumonia')\n",
        "!kaggle datasets download -d paultimothymooney/chest-xray-pneumonia -p /content/datasets/chest-xray-pneumonia"
      ],
      "execution_count": 6,
      "outputs": [
        {
          "output_type": "stream",
          "text": [
            "Downloading chest-xray-pneumonia.zip to /content/datasets/chest-xray-pneumonia\n",
            " 99% 1.14G/1.15G [00:13<00:00, 105MB/s]\n",
            "100% 1.15G/1.15G [00:13<00:00, 93.7MB/s]\n"
          ],
          "name": "stdout"
        }
      ]
    },
    {
      "cell_type": "code",
      "metadata": {
        "id": "S2VoKR7AGDsN",
        "colab_type": "code",
        "colab": {}
      },
      "source": [
        "#uncompress the dataset recursively\n",
        "os.chdir('/content/datasets/chest-xray-pneumonia')\n",
        "for file in os.listdir():\n",
        "    zip_ref = zipfile.ZipFile(file, 'r')\n",
        "    zip_ref.extractall()\n",
        "    zip_ref.close()"
      ],
      "execution_count": 0,
      "outputs": []
    },
    {
      "cell_type": "code",
      "metadata": {
        "id": "PUFnOM4VRYpa",
        "colab_type": "code",
        "colab": {}
      },
      "source": [
        "!ls -a"
      ],
      "execution_count": 0,
      "outputs": []
    },
    {
      "cell_type": "markdown",
      "metadata": {
        "id": "9Z3Ow91rFd09",
        "colab_type": "text"
      },
      "source": [
        "\n",
        "*   ### Pulmonary Chest xray abnormalities dataset (tuberculosis):\n",
        "\n",
        "  *   https://www.kaggle.com/kmader/pulmonary-chest-xray-abnormalities/kernels\n",
        "  \n",
        "<img src=https://www.kaggleusercontent.com/kf/2760885/eyJhbGciOiJkaXIiLCJlbmMiOiJBMTI4Q0JDLUhTMjU2In0..UUc9OcIewSKr8JcxqG73Qw.dzzumtvpMz6kJ84JSPb8RPCds5dDSbR4d0OzYmMW9oeQav7JwQ_uyG4zmwxP2B4SejCyXwgqR5Jl1nWx_z47PeYg-1NLNbyF2Qd80XWVRnyDvcSy9k5jppGstTwKwBuTybvsXeagXLnju7Rd7hoKhY2d2T4GFWGnAOsLSUhinT4.uVRD3OZURqsKlDnuhjFH2g/__results___files/__results___16_0.png width=\"500\">"
      ]
    },
    {
      "cell_type": "code",
      "metadata": {
        "id": "-ukik_8rF-6z",
        "colab_type": "code",
        "colab": {
          "base_uri": "https://localhost:8080/",
          "height": 72
        },
        "outputId": "324d7143-3b6f-43c5-db56-96389aba0b8d"
      },
      "source": [
        "#download dataset into its directory\n",
        "os.mkdir('/content/datasets/pulmonary-chest-xray-abnormalities')\n",
        "!kaggle datasets download -d kmader/pulmonary-chest-xray-abnormalities -p /content/datasets/pulmonary-chest-xray-abnormalities"
      ],
      "execution_count": 15,
      "outputs": [
        {
          "output_type": "stream",
          "text": [
            "Downloading pulmonary-chest-xray-abnormalities.zip to /content/datasets/pulmonary-chest-xray-abnormalities\n",
            "100% 4.08G/4.09G [01:44<00:00, 47.0MB/s]\n",
            "100% 4.09G/4.09G [01:44<00:00, 41.9MB/s]\n"
          ],
          "name": "stdout"
        }
      ]
    },
    {
      "cell_type": "code",
      "metadata": {
        "id": "IT4y7GkFGFNt",
        "colab_type": "code",
        "colab": {}
      },
      "source": [
        "#uncompress the dataset recursively\n",
        "os.chdir('/content/datasets/pulmonary-chest-xray-abnormalities')\n",
        "for file in os.listdir():\n",
        "    zip_ref = zipfile.ZipFile(file, 'r')\n",
        "    zip_ref.extractall()\n",
        "    zip_ref.close()"
      ],
      "execution_count": 0,
      "outputs": []
    }
  ]
}
