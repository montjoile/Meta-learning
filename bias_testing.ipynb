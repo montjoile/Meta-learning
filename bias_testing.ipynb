{
  "nbformat": 4,
  "nbformat_minor": 0,
  "metadata": {
    "colab": {
      "name": "bias_testing.ipynb",
      "version": "0.3.2",
      "provenance": [],
      "collapsed_sections": [
        "0K8k-O3ryJXo",
        "A0VufPXYAE6A"
      ],
      "machine_shape": "hm",
      "include_colab_link": true
    },
    "kernelspec": {
      "name": "python3",
      "display_name": "Python 3"
    }
  },
  "cells": [
    {
      "cell_type": "markdown",
      "metadata": {
        "id": "view-in-github",
        "colab_type": "text"
      },
      "source": [
        "<a href=\"https://colab.research.google.com/github/montjoile/Meta-learning/blob/master/bias_testing.ipynb\" target=\"_parent\"><img src=\"https://colab.research.google.com/assets/colab-badge.svg\" alt=\"Open In Colab\"/></a>"
      ]
    },
    {
      "cell_type": "markdown",
      "metadata": {
        "id": "uHeEPoB08GMc",
        "colab_type": "text"
      },
      "source": [
        "#Code for Testing Bias \n",
        "\n",
        "\\\\\n",
        "\n",
        "This notebook contains experiments to check the presence of bias in the three datasets. I refer as Bias as the intrinsic characteristics of the images in each dataset. The goal is to train a model that can recognize which dataset an image is from. If the model scores more than 33% of accuracy, we can say the datasets are biased, as the model would be able to recognize the inherent characteristics of the datasets. If the performance of the model is no greater than 33% it would mean that the images in the datasets are similar, so we can proceed to design a further meta-learning model. \n",
        "\n",
        "My hypothesis is that there exist unique characteristics in each dataset that will make the images differentiable between datasets.\n",
        "\n",
        "\\\\\n",
        "\n",
        "**This notebook contains:**\n",
        "\n",
        "* Experiment to detect dataset bias\n",
        "* Cross validation to detect bias\n",
        "\n",
        "\n",
        "\\\\\n",
        "\n",
        "**Notes:**\n",
        "\n",
        "I used a random state of 42 on the train/test spllit for reproducible results, this will change to completely random on the final testing in the hpc.\n",
        "I used a very small batch of samples from the original dataset on this notebook. (326 samples from the 3 datasets). The reason was the limitation of Colab environment. The results of the same experiments with the full samples are expected to be similar that the ones obtained here.\n",
        "\n",
        "\n",
        "\\\\\n",
        "\n",
        "**Observations:**\n",
        "\n",
        "* It is worth to note that the class proportion within the train and test set differ, one sign of dataset shift, but the model perform with very high accuracy on the test set, which is highly imbalanced, suggesting that there is no symtoms of data shift.\n",
        "\n",
        "\\\\\n",
        "\n",
        "**Results:**\n",
        "\n",
        "* In the two experiments, the model was unable to detect which dataset the sample images are from, which means that **there is no presence of dataset bias**. \n",
        "\n",
        "\n",
        "\\\\\n",
        "\n",
        "\n",
        "The experiment performed here is *Name that dataset!* which can be found  [here](http://citeseerx.ist.psu.edu/viewdoc/download?doi=10.1.1.208.2314&rep=rep1&type=pdf)"
      ]
    },
    {
      "cell_type": "markdown",
      "metadata": {
        "id": "dtcKVltuyUvP",
        "colab_type": "text"
      },
      "source": [
        "### Mount Google drive"
      ]
    },
    {
      "cell_type": "code",
      "metadata": {
        "id": "4ehadjBcyaAf",
        "colab_type": "code",
        "outputId": "2ce3d2bb-f85c-4eb0-9278-72f932e6bcc3",
        "colab": {
          "base_uri": "https://localhost:8080/",
          "height": 34
        }
      },
      "source": [
        "# Run this cell to mount your Google Drive.\n",
        "from google.colab import drive\n",
        "drive.mount('/content/drive')"
      ],
      "execution_count": 3,
      "outputs": [
        {
          "output_type": "stream",
          "text": [
            "Drive already mounted at /content/drive; to attempt to forcibly remount, call drive.mount(\"/content/drive\", force_remount=True).\n"
          ],
          "name": "stdout"
        }
      ]
    },
    {
      "cell_type": "markdown",
      "metadata": {
        "id": "0K8k-O3ryJXo",
        "colab_type": "text"
      },
      "source": [
        "###Import Libraries"
      ]
    },
    {
      "cell_type": "code",
      "metadata": {
        "id": "KQDJpJPnyIq5",
        "colab_type": "code",
        "colab": {
          "base_uri": "https://localhost:8080/",
          "height": 0
        },
        "outputId": "ded425c4-6596-4494-f968-7e4088ebb3ad"
      },
      "source": [
        "import pandas as pd\n",
        "import numpy as np\n",
        "import os\n",
        "from keras.utils import np_utils\n",
        "from sklearn.utils import shuffle, class_weight\n",
        "from PIL import Image\n",
        "from keras.preprocessing import image\n",
        "from collections import Counter\n",
        "import matplotlib.pyplot as plt\n",
        "from sklearn.model_selection import train_test_split\n",
        "import keras\n",
        "from keras.models import Sequential, load_model\n",
        "from keras.layers import Activation, Dense, Dropout, Flatten, Conv2D, MaxPooling2D, BatchNormalization\n",
        "from keras.preprocessing.image import ImageDataGenerator, array_to_img, img_to_array, load_img\n",
        "import cv2\n",
        "import shutil\n",
        "from keras.callbacks import ModelCheckpoint,EarlyStopping\n",
        "from keras import models\n",
        "from sklearn.model_selection import KFold\n",
        "from keras import optimizers\n",
        "from sklearn.metrics import classification_report, precision_recall_fscore_support\n",
        "import sklearn.metrics as metrics\n",
        "from imblearn.keras import BalancedBatchGenerator\n",
        "from sklearn.metrics import roc_auc_score, confusion_matrix, accuracy_score\n",
        "import pandas as pd\n",
        "from pathlib import Path\n",
        "import time\n",
        "import matplotlib.image as mpimg\n",
        "import math\n",
        "import seaborn as sn\n",
        "from mpl_toolkits.axes_grid1 import make_axes_locatable\n",
        "import matplotlib as mpl\n",
        "import itertools\n",
        "import seaborn as sns"
      ],
      "execution_count": 4,
      "outputs": [
        {
          "output_type": "stream",
          "text": [
            "Using TensorFlow backend.\n",
            "/usr/local/lib/python3.6/dist-packages/sklearn/externals/six.py:31: DeprecationWarning: The module is deprecated in version 0.21 and will be removed in version 0.23 since we've dropped support for Python 2.7. Please rely on the official version of six (https://pypi.org/project/six/).\n",
            "  \"(https://pypi.org/project/six/).\", DeprecationWarning)\n"
          ],
          "name": "stderr"
        }
      ]
    },
    {
      "cell_type": "markdown",
      "metadata": {
        "id": "A0VufPXYAE6A",
        "colab_type": "text"
      },
      "source": [
        "###Load data"
      ]
    },
    {
      "cell_type": "code",
      "metadata": {
        "id": "0nUC0o8p8Fn_",
        "colab_type": "code",
        "colab": {}
      },
      "source": [
        "#read dataset with path of images\n",
        "df_melanoma = pd.read_csv('/content/drive/My Drive/meta-learning/df_melanoma_colab.csv')\n",
        "\n",
        "#create dataset name codes\n",
        "dataset_codename = {\n",
        "    'addi-melanoma':1,\n",
        "    'derm7pt-melanoma':2,\n",
        "    'skin-melanoma':3\n",
        "}"
      ],
      "execution_count": 0,
      "outputs": []
    },
    {
      "cell_type": "code",
      "metadata": {
        "id": "R_Tyt9C8V0jc",
        "colab_type": "code",
        "outputId": "b5205c6c-27f3-43b6-aa8d-3f086ff6803c",
        "colab": {
          "base_uri": "https://localhost:8080/",
          "height": 34
        }
      },
      "source": [
        "Counter(df_melanoma['dataset-name'])"
      ],
      "execution_count": 0,
      "outputs": [
        {
          "output_type": "execute_result",
          "data": {
            "text/plain": [
              "Counter({'addi-melanoma': 77, 'derm7pt-melanoma': 160, 'skin-melanoma': 89})"
            ]
          },
          "metadata": {
            "tags": []
          },
          "execution_count": 4
        }
      ]
    },
    {
      "cell_type": "markdown",
      "metadata": {
        "id": "7LwpeyBYA8Uk",
        "colab_type": "text"
      },
      "source": [
        "###Functions definition"
      ]
    },
    {
      "cell_type": "code",
      "metadata": {
        "id": "kcj6xvsJc9tz",
        "colab_type": "code",
        "colab": {}
      },
      "source": [
        "#create generators\n",
        "def create_generators(x_train, x_test, label_col):\n",
        "  img_height = 256\n",
        "  img_width = 256\n",
        "  img_dimension = 3\n",
        "\n",
        "  #train datagenerator\n",
        "  datagen = ImageDataGenerator(rescale=1./255, validation_split=0.2)\n",
        "  train_generator = datagen.flow_from_dataframe(\n",
        "          dataframe=x_train,\n",
        "          x_col='path',\n",
        "          y_col=label_col,\n",
        "          subset='training',\n",
        "          target_size=(256, 256),\n",
        "          batch_size=32,\n",
        "          shuffle=True,\n",
        "          color_mode='rgb',\n",
        "          class_mode='categorical')\n",
        "  \n",
        "  #valid datagenerator\n",
        "  valid_generator=datagen.flow_from_dataframe(\n",
        "          dataframe=x_train,\n",
        "          x_col='path',\n",
        "          y_col=label_col,\n",
        "          subset='validation',\n",
        "          target_size=(256,256),\n",
        "          batch_size=32,\n",
        "          shuffle=True,\n",
        "          color_mode='rgb',\n",
        "          class_mode='categorical')\n",
        "\n",
        "  #test datagenerator\n",
        "  testgen = ImageDataGenerator()\n",
        "  test_generator = testgen.flow_from_dataframe(\n",
        "          dataframe=x_test,\n",
        "          x_col='path',\n",
        "          y_col=label_col,\n",
        "          target_size=(256, 256),\n",
        "          batch_size=32,\n",
        "          shuffle=False,\n",
        "          color_mode='rgb',\n",
        "          class_mode='categorical')\n",
        "  \n",
        "  return train_generator, valid_generator, test_generator"
      ],
      "execution_count": 0,
      "outputs": []
    },
    {
      "cell_type": "code",
      "metadata": {
        "id": "jsOAtlCre-Qt",
        "colab_type": "code",
        "colab": {}
      },
      "source": [
        "# create model\n",
        "def create_model():\n",
        "  \n",
        "  model = Sequential()\n",
        "\n",
        "  model.add(Conv2D(16, 9, padding='same', input_shape=(256,256,3), use_bias=False))\n",
        "\n",
        "  model.add(BatchNormalization())\n",
        "  model.add(Activation('relu'))\n",
        "  model.add(MaxPooling2D())\n",
        "\n",
        "\n",
        "  model.add(Flatten())\n",
        "  model.add(Dense(512, activation='sigmoid', use_bias=False))\n",
        "  model.add(BatchNormalization())\n",
        "  model.add(Dropout(0.2))\n",
        "  model.add(Dense(activation='softmax', units=3))\n",
        "\n",
        "  model.compile(loss='categorical_crossentropy', \n",
        "                optimizer = keras.optimizers.SGD(\n",
        "                    lr=0.01, \n",
        "                    momentum=0.9, \n",
        "                    nesterov=True),\n",
        "                metrics=[\"accuracy\"])\n",
        "  \n",
        "  return model"
      ],
      "execution_count": 0,
      "outputs": []
    },
    {
      "cell_type": "code",
      "metadata": {
        "id": "4_bH2dxBiLdN",
        "colab_type": "code",
        "colab": {}
      },
      "source": [
        "# fit model \n",
        "def train_model(model, train_generator, valid_generator, weight_checkpoint):\n",
        "  \n",
        "  nb_epochs = 3 \n",
        "  STEP_SIZE_TRAIN=math.ceil(train_generator.n//nb_epochs)\n",
        "  STEP_SIZE_VALID=math.ceil(valid_generator.n//nb_epochs)\n",
        "  es = EarlyStopping(monitor='val_loss', mode='min', verbose=1, patience=5)\n",
        "  \n",
        "  history = model.fit_generator(generator=train_generator,\n",
        "                                           steps_per_epoch=STEP_SIZE_TRAIN,\n",
        "                                           validation_data=valid_generator,\n",
        "                                           validation_steps=STEP_SIZE_VALID,\n",
        "                                           callbacks=[es, weight_checkpoint],\n",
        "                                           epochs=nb_epochs)\n",
        "  \n",
        "  best_weights_model = load_model(weight_checkpoint.filepath)\n",
        "  \n",
        "  return history.history['acc'], history.history['loss'], history.history['val_acc'], history.history['val_loss'], best_weights_model\n"
      ],
      "execution_count": 0,
      "outputs": []
    },
    {
      "cell_type": "code",
      "metadata": {
        "id": "XQn1MN3Q2UUl",
        "colab_type": "code",
        "colab": {}
      },
      "source": [
        "#get predictions\n",
        "def predict_model(model, test_generator):\n",
        "  STEP_SIZE_TEST=math.ceil(test_generator.n/test_generator.batch_size)\n",
        "  true_labels = test_generator.classes\n",
        "  test_generator.reset()\n",
        "\n",
        "  predictions = model.predict_generator(test_generator, steps=STEP_SIZE_TEST) \n",
        "  y_true = true_labels\n",
        "  y_pred = np.array([np.argmax(x) for x in predictions])\n",
        "  return y_true, y_pred"
      ],
      "execution_count": 0,
      "outputs": []
    },
    {
      "cell_type": "code",
      "metadata": {
        "id": "Oek1jQTwFdqM",
        "colab_type": "code",
        "colab": {}
      },
      "source": [
        "#evaluate model\n",
        "def evaluate_model(model, test_generator):\n",
        "  STEP_SIZE_TEST=math.ceil(test_generator.n/test_generator.batch_size)\n",
        "  loss, acc = model.evaluate_generator(generator=test_generator, steps=STEP_SIZE_TEST)\n",
        "\n",
        "  return loss, acc"
      ],
      "execution_count": 0,
      "outputs": []
    },
    {
      "cell_type": "code",
      "metadata": {
        "id": "Q6V_mh2KdkYo",
        "colab_type": "code",
        "colab": {}
      },
      "source": [
        "def plot_confusion_matrix(confusion_matrix, class_names):\n",
        "  mpl.style.use('seaborn')\n",
        "  conf_arr = np.array([[88,14,4],[12,85,11],[5,15,91]])\n",
        "  sum = conf_arr.sum()\n",
        "  conf_arr = conf_arr * 100.0 / ( 1.0 * sum )\n",
        "\n",
        "  df_cm = pd.DataFrame(confusion_matrix, index=class_names, columns=class_names)\n",
        "\n",
        "  fig = plt.figure()\n",
        "  plt.clf()\n",
        "  ax = fig.add_subplot(111)\n",
        "  ax.set_aspect(1)\n",
        "\n",
        "  cmap = sns.cubehelix_palette(rot=-.4)\n",
        "  res = sn.heatmap(df_cm, annot=True, vmin=0.0, vmax=100.0, fmt='d', cmap=cmap)\n",
        "  res.invert_yaxis()\n",
        "  plt.yticks([0.5,1.5,2.5], class_names, va='center')\n",
        "  plt.title('Confusion Matrix')\n",
        "\n",
        "  #plt.savefig('confusion_matrix.png', dpi=100, bbox_inches='tight' )\n",
        "  #plt.close()"
      ],
      "execution_count": 0,
      "outputs": []
    },
    {
      "cell_type": "code",
      "metadata": {
        "id": "YF8ZrGaGgyBH",
        "colab_type": "code",
        "colab": {}
      },
      "source": [
        "#plot classification report\n",
        "def plot_classification_report(y_true, y_pred, class_names, figsize=(10, 10), ax=None):\n",
        "\n",
        "    plt.figure(figsize=figsize)\n",
        "\n",
        "    xticks = ['precision', 'recall', 'f1-score', 'support']\n",
        "    yticks = class_names\n",
        "\n",
        "    rep = np.array(precision_recall_fscore_support(y_true, y_pred)).T\n",
        "    avg = np.mean(rep, axis=0)\n",
        "    avg[-1] = np.sum(rep[:, -1])\n",
        "    rep = np.insert(rep, rep.shape[0], avg, axis=0)\n",
        "\n",
        "    cmap = sns.color_palette(\"ch:2.8,-.2,dark=.27\")\n",
        "    sns.heatmap(rep,\n",
        "                annot=True, \n",
        "                cbar=False, \n",
        "                xticklabels=xticks, \n",
        "                yticklabels=yticks,\n",
        "                fmt='.2f',\n",
        "                cmap=cmap,\n",
        "                ax=ax)"
      ],
      "execution_count": 0,
      "outputs": []
    },
    {
      "cell_type": "code",
      "metadata": {
        "id": "dZ7J9bkoWZjl",
        "colab_type": "code",
        "colab": {}
      },
      "source": [
        "#plot AUC ROC\n",
        "def auc_roc(y_true, y_pred):\n",
        "  fpr, tpr, thresholds = metrics.roc_curve(y_true, y_pred, pos_label=0)\n",
        "\n",
        "  #plot ROC\n",
        "  plt.plot(fpr,tpr)\n",
        "  plt.show() \n",
        "\n",
        "  #plot AUC\n",
        "  auc = np.trapz(tpr,fpr)\n",
        "  print('AUC:', auc)"
      ],
      "execution_count": 0,
      "outputs": []
    },
    {
      "cell_type": "code",
      "metadata": {
        "id": "iKn1FhexWo5U",
        "colab_type": "code",
        "colab": {}
      },
      "source": [
        "#plot curves of loss and accuracy during training\n",
        "def plot_acc_loss(acc, val_acc, loss, val_loss):\n",
        "  f = plt.figure(figsize=(15,5))\n",
        "  ax = f.add_subplot(121)\n",
        "  ax2 = f.add_subplot(122)\n",
        "  epochs = range(1, len(acc) + 1)\n",
        "\n",
        "  ax.plot(epochs, acc, 'g', label='Training acc')\n",
        "  ax.plot(epochs, val_acc, 'b', label='Validation acc')\n",
        "  #ax.title('Training and validation accuracy')\n",
        "  ax.set_title('Training and validation accuracy')\n",
        "  ax.legend()\n",
        "\n",
        "  ax2.plot(epochs, loss, 'g', label='Training loss')\n",
        "  ax2.plot(epochs, val_loss, 'b', label='Validation loss')\n",
        "  ax2.set_title('Training and validation loss')\n",
        "  ax2.legend()"
      ],
      "execution_count": 0,
      "outputs": []
    },
    {
      "cell_type": "markdown",
      "metadata": {
        "id": "d9wO-o3mZ-Fk",
        "colab_type": "text"
      },
      "source": [
        "###Experiment 1"
      ]
    },
    {
      "cell_type": "code",
      "metadata": {
        "id": "wHcOeG_EAemH",
        "colab_type": "code",
        "colab": {}
      },
      "source": [
        "def experimento_1(dataset):\n",
        "  \n",
        "  #split dataset into test and train set\n",
        "  X_train, X_test, y_train, y_test = train_test_split(dataset['path'], dataset['dataset-name'], test_size=0.2, random_state=42)\n",
        "  X_train = dataset.loc[dataset['path'].isin(X_train)]\n",
        "  X_test = dataset.loc[dataset['path'].isin(X_test)]\n",
        "  \n",
        "  #set weight checkpoint file\n",
        "  weight_checkpoint = ModelCheckpoint(filepath='/content/drive/My Drive/meta-learning/bias_testing1.hdf5', \n",
        "                               monitor = 'val_acc',\n",
        "                               mode='max',\n",
        "                               verbose=1, \n",
        "                               save_best_only=True)\n",
        "  \n",
        "  \n",
        "  #create and evaluate model\n",
        "  model = create_model()\n",
        "  train_generator, valid_generator, test_generator = create_generators(X_train, X_test, 'dataset-name')\n",
        "\n",
        "  \n",
        "  acc, loss, val_acc, val_loss, best_model = train_model(model, train_generator, valid_generator, weight_checkpoint)\n",
        "  actual, predicted = predict_model(best_model, test_generator)\n",
        "  loss_eval, acc_eval = evaluate_model(best_model, test_generator)\n",
        "  \n",
        "  \n",
        "  return acc, loss, val_acc, val_loss, acc_eval, loss_eval, actual, predicted, best_model"
      ],
      "execution_count": 0,
      "outputs": []
    },
    {
      "cell_type": "code",
      "metadata": {
        "id": "G-NAh8aif5VO",
        "colab_type": "code",
        "outputId": "6c3aa00f-8216-48aa-c692-c6096f8aeb0b",
        "colab": {
          "base_uri": "https://localhost:8080/",
          "height": 340
        }
      },
      "source": [
        "acc, loss, val_acc, val_loss, acc_eval, loss_eval, actual, predicted, model = experimento_1(df_melanoma)"
      ],
      "execution_count": 0,
      "outputs": [
        {
          "output_type": "stream",
          "text": [
            "/usr/local/lib/python3.6/dist-packages/keras_preprocessing/image/dataframe_iterator.py:273: UserWarning: Found 53 invalid image filename(s) in x_col=\"path\". These filename(s) will be ignored.\n",
            "  .format(n_invalid, x_col)\n",
            "/usr/local/lib/python3.6/dist-packages/keras_preprocessing/image/dataframe_iterator.py:273: UserWarning: Found 15 invalid image filename(s) in x_col=\"path\". These filename(s) will be ignored.\n",
            "  .format(n_invalid, x_col)\n"
          ],
          "name": "stderr"
        },
        {
          "output_type": "stream",
          "text": [
            "Found 166 validated image filenames belonging to 3 classes.\n",
            "Found 41 validated image filenames belonging to 3 classes.\n",
            "Found 51 validated image filenames belonging to 3 classes.\n",
            "Epoch 1/3\n",
            "55/55 [==============================] - 201s 4s/step - loss: 0.2901 - acc: 0.9063 - val_loss: 0.6931 - val_acc: 0.8022\n",
            "\n",
            "Epoch 00001: val_acc improved from -inf to 0.80216, saving model to /content/drive/My Drive/meta-learning/bias_testing1.hdf5\n",
            "Epoch 2/3\n",
            "55/55 [==============================] - 192s 3s/step - loss: 0.1734 - acc: 0.9392 - val_loss: 2.6570 - val_acc: 0.2941\n",
            "\n",
            "Epoch 00002: val_acc did not improve from 0.80216\n",
            "Epoch 3/3\n",
            "55/55 [==============================] - 191s 3s/step - loss: 0.0750 - acc: 0.9804 - val_loss: 1.6917 - val_acc: 0.5396\n",
            "\n",
            "Epoch 00003: val_acc did not improve from 0.80216\n"
          ],
          "name": "stdout"
        }
      ]
    },
    {
      "cell_type": "code",
      "metadata": {
        "id": "xNdcww7xXAuu",
        "colab_type": "code",
        "outputId": "d23dc6ae-eb41-4832-ed27-81b7bc7e3ffb",
        "colab": {
          "base_uri": "https://localhost:8080/",
          "height": 336
        }
      },
      "source": [
        "#plot training and validation accuracy and loss\n",
        "plot_acc_loss(acc, val_acc, loss, val_loss)"
      ],
      "execution_count": 0,
      "outputs": [
        {
          "output_type": "display_data",
          "data": {
            "image/png": "[encoded data removed]",
            "text/plain": [
              "<Figure size 1080x360 with 2 Axes>"
            ]
          },
          "metadata": {
            "tags": []
          }
        }
      ]
    },
    {
      "cell_type": "code",
      "metadata": {
        "id": "iYq2YrYzNzVY",
        "colab_type": "code",
        "outputId": "c349a05d-a62f-4101-81e4-8c10d8ae792b",
        "colab": {
          "base_uri": "https://localhost:8080/",
          "height": 362
        }
      },
      "source": [
        "#plot confusion matrix\n",
        "plot_confusion_matrix(confusion_matrix(actual, predicted), dataset_codename)"
      ],
      "execution_count": 0,
      "outputs": [
        {
          "output_type": "display_data",
          "data": {
            "image/png": "[encoded data removed]",
            "text/plain": [
              "<Figure size 576x396 with 2 Axes>"
            ]
          },
          "metadata": {
            "tags": []
          }
        }
      ]
    },
    {
      "cell_type": "code",
      "metadata": {
        "id": "BDl18g6KN68-",
        "colab_type": "code",
        "outputId": "52b98506-7fe9-4667-da36-cbdad56e6aa5",
        "colab": {
          "base_uri": "https://localhost:8080/",
          "height": 626
        }
      },
      "source": [
        "#plot classification report\n",
        "plot_classification_report(actual, predicted, dataset_codename)"
      ],
      "execution_count": 0,
      "outputs": [
        {
          "output_type": "stream",
          "text": [
            "/usr/local/lib/python3.6/dist-packages/sklearn/metrics/classification.py:1437: UndefinedMetricWarning: Precision and F-score are ill-defined and being set to 0.0 in labels with no predicted samples.\n",
            "  'precision', 'predicted', average, warn_for)\n"
          ],
          "name": "stderr"
        },
        {
          "output_type": "display_data",
          "data": {
            "image/png": "[encoded data removed]",
            "text/plain": [
              "<Figure size 720x720 with 1 Axes>"
            ]
          },
          "metadata": {
            "tags": []
          }
        }
      ]
    },
    {
      "cell_type": "code",
      "metadata": {
        "id": "xFmiGkoTOURn",
        "colab_type": "code",
        "outputId": "6d6d798a-f672-4137-fe68-b23da35f7946",
        "colab": {
          "base_uri": "https://localhost:8080/",
          "height": 364
        }
      },
      "source": [
        "#plot AUC ROC\n",
        "auc_roc(actual, predicted)"
      ],
      "execution_count": 0,
      "outputs": [
        {
          "output_type": "display_data",
          "data": {
            "image/png": "[encoded data removed]",
            "text/plain": [
              "<Figure size 576x396 with 1 Axes>"
            ]
          },
          "metadata": {
            "tags": []
          }
        },
        {
          "output_type": "stream",
          "text": [
            "AUC: 0.5\n"
          ],
          "name": "stdout"
        }
      ]
    },
    {
      "cell_type": "markdown",
      "metadata": {
        "id": "v_YUQKNPczo_",
        "colab_type": "text"
      },
      "source": [
        "###Experiment 2"
      ]
    },
    {
      "cell_type": "code",
      "metadata": {
        "id": "YWyH9YDvc1N1",
        "colab_type": "code",
        "colab": {}
      },
      "source": [
        "def experimento_2(dataset):\n",
        "    \n",
        "  total_actual = []\n",
        "  total_predicted = []\n",
        "  total_acc = []\n",
        "  total_loss = []\n",
        "  total_val_acc = []\n",
        "  total_val_loss = []\n",
        "  total_acc_eval = []\n",
        "  total_loss_eval = []\n",
        "  total_test_accuracy = []\n",
        "\n",
        "  kf = KFold(n_splits=3, shuffle=True)\n",
        "  kf.get_n_splits(dataset['path'])\n",
        "\n",
        "\n",
        "  for i, (train_index, test_index) in enumerate(kf.split(dataset['path'])):  \n",
        "    X_train, X_test = dataset.iloc[train_index], dataset.iloc[test_index]\n",
        "    y_train, y_test = dataset.iloc[train_index]['dataset-name'], dataset.iloc[test_index]['dataset-name']      \n",
        "\n",
        "    #set weight checkpoint file\n",
        "    if os.path.exists('/content/drive/My Drive/meta-learning/bias_testing2.hdf5'): os.remove('/content/drive/My Drive/meta-learning/bias_testing2.hdf5')\n",
        "    weight_checkpoint = ModelCheckpoint(filepath='/content/drive/My Drive/meta-learning/bias_testing2.hdf5', \n",
        "                                 monitor = 'val_acc',\n",
        "                                 verbose=1, \n",
        "                                 save_best_only=True)\n",
        "\n",
        "    print('***** Running fold '+ str(i)+' *****')\n",
        "    print('train size: '+str(X_train.shape[0]))\n",
        "    print('test size: ' +str(X_test.shape[0]))\n",
        "\n",
        "    #create and evaluate model\n",
        "    model = None\n",
        "    model = create_model()\n",
        "    train_generator, valid_generator, test_generator = create_generators(X_train, X_test, 'dataset-name')\n",
        "\n",
        "\n",
        "    acc, loss, val_acc, val_loss, best_model = train_model(model, train_generator, valid_generator, weight_checkpoint)\n",
        "    actual, predicted = predict_model(best_model, test_generator)\n",
        "    loss_eval, acc_eval = evaluate_model(best_model, test_generator)\n",
        "\n",
        "\n",
        "    #append validation accuracy and loss for average calculation later on\n",
        "    total_acc.append(acc)\n",
        "    total_loss.append(loss)\n",
        "    total_val_acc.append(val_acc)\n",
        "    total_val_loss.append(val_loss)\n",
        "\n",
        "    print('actual size:'+str(len(actual)))\n",
        "    print('predicted size:'+str(len(predicted)))\n",
        "\n",
        "    #append accuracy from the predictions on the test data\n",
        "    total_test_accuracy.append(accuracy_score(actual, predicted))\n",
        "\n",
        "    #append all of the actual and predicted classes for your final evaluation\n",
        "    total_actual.append(actual)\n",
        "    total_predicted.append(predicted)\n",
        "\n",
        "    total_loss_eval.append(loss_eval)\n",
        "    total_acc_eval.append(acc_eval)\n",
        "\n",
        "\n",
        "  #modify to plot\n",
        "  y_true = []\n",
        "  y_pred = []\n",
        "  for i in range(0,len(total_actual)):\n",
        "    for j in range(0, len(total_actual[i])):\n",
        "        y_true.append(total_actual[i][j])\n",
        "  for i in range(0,len(total_predicted)):\n",
        "    for j in range(0, len(total_predicted[i])):\n",
        "        y_pred.append(total_predicted[i][j])\n",
        "\n",
        "  return acc, loss, val_acc, val_loss, acc_eval, loss_eval, y_true, y_pred, best_model"
      ],
      "execution_count": 0,
      "outputs": []
    },
    {
      "cell_type": "code",
      "metadata": {
        "id": "JNBQk4EKfoae",
        "colab_type": "code",
        "outputId": "c8f41656-a15c-4003-fd70-cd0da6148d9c",
        "colab": {
          "base_uri": "https://localhost:8080/",
          "height": 1000
        }
      },
      "source": [
        "acc, loss, val_acc, val_loss, acc_eval, loss_eval, actual, predicted, model = experimento_2(df_melanoma)"
      ],
      "execution_count": 16,
      "outputs": [
        {
          "output_type": "stream",
          "text": [
            "WARNING: Logging before flag parsing goes to stderr.\n",
            "W0803 23:31:22.060047 140111407294336 deprecation_wrapper.py:119] From /usr/local/lib/python3.6/dist-packages/keras/backend/tensorflow_backend.py:74: The name tf.get_default_graph is deprecated. Please use tf.compat.v1.get_default_graph instead.\n",
            "\n",
            "W0803 23:31:22.104955 140111407294336 deprecation_wrapper.py:119] From /usr/local/lib/python3.6/dist-packages/keras/backend/tensorflow_backend.py:517: The name tf.placeholder is deprecated. Please use tf.compat.v1.placeholder instead.\n",
            "\n",
            "W0803 23:31:22.113948 140111407294336 deprecation_wrapper.py:119] From /usr/local/lib/python3.6/dist-packages/keras/backend/tensorflow_backend.py:4138: The name tf.random_uniform is deprecated. Please use tf.random.uniform instead.\n",
            "\n",
            "W0803 23:31:22.175599 140111407294336 deprecation_wrapper.py:119] From /usr/local/lib/python3.6/dist-packages/keras/backend/tensorflow_backend.py:174: The name tf.get_default_session is deprecated. Please use tf.compat.v1.get_default_session instead.\n",
            "\n",
            "W0803 23:31:22.177342 140111407294336 deprecation_wrapper.py:119] From /usr/local/lib/python3.6/dist-packages/keras/backend/tensorflow_backend.py:181: The name tf.ConfigProto is deprecated. Please use tf.compat.v1.ConfigProto instead.\n",
            "\n"
          ],
          "name": "stderr"
        },
        {
          "output_type": "stream",
          "text": [
            "***** Running fold 0 *****\n",
            "train size: 217\n",
            "test size: 109\n"
          ],
          "name": "stdout"
        },
        {
          "output_type": "stream",
          "text": [
            "W0803 23:31:22.482074 140111407294336 deprecation_wrapper.py:119] From /usr/local/lib/python3.6/dist-packages/keras/backend/tensorflow_backend.py:1834: The name tf.nn.fused_batch_norm is deprecated. Please use tf.compat.v1.nn.fused_batch_norm instead.\n",
            "\n",
            "W0803 23:31:22.571453 140111407294336 deprecation_wrapper.py:119] From /usr/local/lib/python3.6/dist-packages/keras/backend/tensorflow_backend.py:3976: The name tf.nn.max_pool is deprecated. Please use tf.nn.max_pool2d instead.\n",
            "\n",
            "W0803 23:31:22.693299 140111407294336 deprecation.py:506] From /usr/local/lib/python3.6/dist-packages/keras/backend/tensorflow_backend.py:3445: calling dropout (from tensorflow.python.ops.nn_ops) with keep_prob is deprecated and will be removed in a future version.\n",
            "Instructions for updating:\n",
            "Please use `rate` instead of `keep_prob`. Rate should be set to `rate = 1 - keep_prob`.\n",
            "W0803 23:31:22.737228 140111407294336 deprecation_wrapper.py:119] From /usr/local/lib/python3.6/dist-packages/keras/optimizers.py:790: The name tf.train.Optimizer is deprecated. Please use tf.compat.v1.train.Optimizer instead.\n",
            "\n",
            "/usr/local/lib/python3.6/dist-packages/keras_preprocessing/image/dataframe_iterator.py:273: UserWarning: Found 48 invalid image filename(s) in x_col=\"path\". These filename(s) will be ignored.\n",
            "  .format(n_invalid, x_col)\n",
            "/usr/local/lib/python3.6/dist-packages/keras_preprocessing/image/dataframe_iterator.py:273: UserWarning: Found 20 invalid image filename(s) in x_col=\"path\". These filename(s) will be ignored.\n",
            "  .format(n_invalid, x_col)\n"
          ],
          "name": "stderr"
        },
        {
          "output_type": "stream",
          "text": [
            "Found 136 validated image filenames belonging to 3 classes.\n",
            "Found 33 validated image filenames belonging to 3 classes.\n",
            "Found 89 validated image filenames belonging to 3 classes.\n"
          ],
          "name": "stdout"
        },
        {
          "output_type": "stream",
          "text": [
            "W0803 23:31:23.105175 140111407294336 deprecation.py:323] From /usr/local/lib/python3.6/dist-packages/tensorflow/python/ops/math_grad.py:1250: add_dispatch_support.<locals>.wrapper (from tensorflow.python.ops.array_ops) is deprecated and will be removed in a future version.\n",
            "Instructions for updating:\n",
            "Use tf.where in 2.0, which has the same broadcast rule as np.where\n"
          ],
          "name": "stderr"
        },
        {
          "output_type": "stream",
          "text": [
            "Epoch 1/3\n",
            "45/45 [==============================] - 151s 3s/step - loss: 0.2915 - acc: 0.9130 - val_loss: 1.0095 - val_acc: 0.7563\n",
            "\n",
            "Epoch 00001: val_acc improved from -inf to 0.75635, saving model to /content/drive/My Drive/meta-learning/bias_testing2.hdf5\n",
            "Epoch 2/3\n",
            "45/45 [==============================] - 146s 3s/step - loss: 0.1175 - acc: 0.9661 - val_loss: 0.7589 - val_acc: 0.7289\n",
            "\n",
            "Epoch 00002: val_acc did not improve from 0.75635\n",
            "Epoch 3/3\n",
            "45/45 [==============================] - 145s 3s/step - loss: 0.0972 - acc: 0.9688 - val_loss: 1.2179 - val_acc: 0.5736\n",
            "\n",
            "Epoch 00003: val_acc did not improve from 0.75635\n",
            "actual size:89\n",
            "predicted size:89\n",
            "***** Running fold 1 *****\n",
            "train size: 217\n",
            "test size: 109\n"
          ],
          "name": "stdout"
        },
        {
          "output_type": "stream",
          "text": [
            "/usr/local/lib/python3.6/dist-packages/keras_preprocessing/image/dataframe_iterator.py:273: UserWarning: Found 42 invalid image filename(s) in x_col=\"path\". These filename(s) will be ignored.\n",
            "  .format(n_invalid, x_col)\n",
            "/usr/local/lib/python3.6/dist-packages/keras_preprocessing/image/dataframe_iterator.py:273: UserWarning: Found 26 invalid image filename(s) in x_col=\"path\". These filename(s) will be ignored.\n",
            "  .format(n_invalid, x_col)\n"
          ],
          "name": "stderr"
        },
        {
          "output_type": "stream",
          "text": [
            "Found 140 validated image filenames belonging to 3 classes.\n",
            "Found 35 validated image filenames belonging to 3 classes.\n",
            "Found 83 validated image filenames belonging to 3 classes.\n",
            "Epoch 1/3\n",
            "46/46 [==============================] - 154s 3s/step - loss: 0.3671 - acc: 0.9046 - val_loss: 0.7337 - val_acc: 0.8551\n",
            "\n",
            "Epoch 00001: val_acc improved from -inf to 0.85507, saving model to /content/drive/My Drive/meta-learning/bias_testing2.hdf5\n",
            "Epoch 2/3\n",
            "46/46 [==============================] - 151s 3s/step - loss: 0.0644 - acc: 0.9865 - val_loss: 0.6143 - val_acc: 0.8315\n",
            "\n",
            "Epoch 00002: val_acc did not improve from 0.85507\n",
            "Epoch 3/3\n",
            "46/46 [==============================] - 150s 3s/step - loss: 0.0564 - acc: 0.9876 - val_loss: 0.4321 - val_acc: 0.8599\n",
            "\n",
            "Epoch 00003: val_acc improved from 0.85507 to 0.85990, saving model to /content/drive/My Drive/meta-learning/bias_testing2.hdf5\n",
            "actual size:83\n",
            "predicted size:83\n",
            "***** Running fold 2 *****\n",
            "train size: 218\n",
            "test size: 108\n"
          ],
          "name": "stdout"
        },
        {
          "output_type": "stream",
          "text": [
            "/usr/local/lib/python3.6/dist-packages/keras_preprocessing/image/dataframe_iterator.py:273: UserWarning: Found 46 invalid image filename(s) in x_col=\"path\". These filename(s) will be ignored.\n",
            "  .format(n_invalid, x_col)\n",
            "/usr/local/lib/python3.6/dist-packages/keras_preprocessing/image/dataframe_iterator.py:273: UserWarning: Found 22 invalid image filename(s) in x_col=\"path\". These filename(s) will be ignored.\n",
            "  .format(n_invalid, x_col)\n"
          ],
          "name": "stderr"
        },
        {
          "output_type": "stream",
          "text": [
            "Found 138 validated image filenames belonging to 3 classes.\n",
            "Found 34 validated image filenames belonging to 3 classes.\n",
            "Found 86 validated image filenames belonging to 3 classes.\n",
            "Epoch 1/3\n",
            "46/46 [==============================] - 153s 3s/step - loss: 0.3304 - acc: 0.9161 - val_loss: 0.8454 - val_acc: 0.8564\n",
            "\n",
            "Epoch 00001: val_acc improved from -inf to 0.85644, saving model to /content/drive/My Drive/meta-learning/bias_testing2.hdf5\n",
            "Epoch 2/3\n",
            "46/46 [==============================] - 150s 3s/step - loss: 0.1087 - acc: 0.9616 - val_loss: 0.7693 - val_acc: 0.8488\n",
            "\n",
            "Epoch 00002: val_acc did not improve from 0.85644\n",
            "Epoch 3/3\n",
            "46/46 [==============================] - 149s 3s/step - loss: 0.0489 - acc: 0.9903 - val_loss: 0.6425 - val_acc: 0.7921\n",
            "\n",
            "Epoch 00003: val_acc did not improve from 0.85644\n",
            "actual size:86\n",
            "predicted size:86\n"
          ],
          "name": "stdout"
        }
      ]
    },
    {
      "cell_type": "code",
      "metadata": {
        "id": "BaeUJZZAgO77",
        "colab_type": "code",
        "colab": {
          "base_uri": "https://localhost:8080/",
          "height": 336
        },
        "outputId": "56f6c150-28eb-427b-944e-f589daf48c1d"
      },
      "source": [
        "#plot training and validation accuracy and loss\n",
        "plot_acc_loss(acc, val_acc, loss, val_loss)"
      ],
      "execution_count": 19,
      "outputs": [
        {
          "output_type": "display_data",
          "data": {
            "image/png": "[encoded data removed]",
            "text/plain": [
              "<Figure size 1080x360 with 2 Axes>"
            ]
          },
          "metadata": {
            "tags": []
          }
        }
      ]
    },
    {
      "cell_type": "code",
      "metadata": {
        "id": "U9hRRaDtgPcB",
        "colab_type": "code",
        "colab": {
          "base_uri": "https://localhost:8080/",
          "height": 362
        },
        "outputId": "03d5e126-309b-4d27-ef23-0ae9f417e168"
      },
      "source": [
        "#plot confusion matrix\n",
        "plot_confusion_matrix(confusion_matrix(actual, predicted), dataset_codename)"
      ],
      "execution_count": 21,
      "outputs": [
        {
          "output_type": "display_data",
          "data": {
            "image/png": "[encoded data removed]",
            "text/plain": [
              "<Figure size 576x396 with 2 Axes>"
            ]
          },
          "metadata": {
            "tags": []
          }
        }
      ]
    },
    {
      "cell_type": "code",
      "metadata": {
        "id": "6VBVOl_2gSxK",
        "colab_type": "code",
        "colab": {
          "base_uri": "https://localhost:8080/",
          "height": 626
        },
        "outputId": "a2df4a64-70e7-4be0-f209-7fa25da935ef"
      },
      "source": [
        "#plot classification report\n",
        "plot_classification_report(actual, predicted, dataset_codename)"
      ],
      "execution_count": 22,
      "outputs": [
        {
          "output_type": "stream",
          "text": [
            "/usr/local/lib/python3.6/dist-packages/sklearn/metrics/classification.py:1437: UndefinedMetricWarning: Precision and F-score are ill-defined and being set to 0.0 in labels with no predicted samples.\n",
            "  'precision', 'predicted', average, warn_for)\n"
          ],
          "name": "stderr"
        },
        {
          "output_type": "display_data",
          "data": {
            "image/png": "[encoded data removed]",
            "text/plain": [
              "<Figure size 720x720 with 1 Axes>"
            ]
          },
          "metadata": {
            "tags": []
          }
        }
      ]
    },
    {
      "cell_type": "code",
      "metadata": {
        "id": "Wnq9LBDtgU75",
        "colab_type": "code",
        "colab": {
          "base_uri": "https://localhost:8080/",
          "height": 364
        },
        "outputId": "159da3de-5b5b-42f0-d2b7-6c95a7caa5d5"
      },
      "source": [
        "#plot AUC ROC\n",
        "auc_roc(actual, predicted)"
      ],
      "execution_count": 23,
      "outputs": [
        {
          "output_type": "display_data",
          "data": {
            "image/png": "[encoded data removed]",
            "text/plain": [
              "<Figure size 576x396 with 1 Axes>"
            ]
          },
          "metadata": {
            "tags": []
          }
        },
        {
          "output_type": "stream",
          "text": [
            "AUC: 0.5\n"
          ],
          "name": "stdout"
        }
      ]
    }
  ]
}