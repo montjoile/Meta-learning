{
  "nbformat": 4,
  "nbformat_minor": 0,
  "metadata": {
    "colab": {
      "name": "bias_testing.ipynb",
      "version": "0.3.2",
      "provenance": [],
      "collapsed_sections": [
        "dtcKVltuyUvP",
        "0K8k-O3ryJXo",
        "A0VufPXYAE6A"
      ],
      "machine_shape": "hm",
      "include_colab_link": true
    },
    "kernelspec": {
      "name": "python3",
      "display_name": "Python 3"
    }
  },
  "cells": [
    {
      "cell_type": "markdown",
      "metadata": {
        "id": "view-in-github",
        "colab_type": "text"
      },
      "source": [
        "<a href=\"https://colab.research.google.com/github/montjoile/Meta-learning/blob/master/bias_testing.ipynb\" target=\"_parent\"><img src=\"https://colab.research.google.com/assets/colab-badge.svg\" alt=\"Open In Colab\"/></a>"
      ]
    },
    {
      "cell_type": "markdown",
      "metadata": {
        "id": "uHeEPoB08GMc",
        "colab_type": "text"
      },
      "source": [
        "#Code for Testing Bias \n",
        "\n",
        "\\\\\n",
        "\n",
        "This notebook contains experiments to check the presence of bias in the three datasets. I refer as Bias as the intrinsic characteristics of the images in each dataset. The goal is to train a model that can recognize which dataset an image is from. If the model scores more than 33% of accuracy, we can say the datasets are biased, as the model would be able to recognize the inherent characteristics of the datasets. If the performance of the model is no greater than 33% it would mean that the images in the datasets are similar, so we can proceed to design a further meta-learning model. \n",
        "\n",
        "My hypothesis is that there exist unique characteristics in each dataset that will make the images differentiable between datasets.\n",
        "\n",
        "\\\\\n",
        "\n",
        "**This notebook contains:**\n",
        "\n",
        "* Experiment to detect dataset bias\n",
        "\n",
        "\n",
        "\\\\\n",
        "\n",
        "**Notes:**\n",
        "\n",
        "I used a random state of 42 on the train/test spllit for reproducible results, this will change to completely random on the final testing in the hpc.\n",
        "I used a very small batch of samples from the original dataset on this notebook. (326 samples from the 3 datasets). The reason was the limitation of Colab environment. The results of the same experiments with the full samples are expected to be similar that the ones obtained here.\n",
        "\n",
        "\\\\\n",
        "\n",
        "**Observations:**\n",
        "\n",
        "* It is worth to note that the class proportion within the train and test set differ, one sign of dataset shift, but the model perform with very high accuracy on the test set, which is highly imbalanced, suggesting that there is no symtoms of data shift.\n",
        "\n",
        "* Cross validation is performed to average the results.\n",
        "\n",
        "\\\\\n",
        "\n",
        "\n",
        "The experiment performed here is *Name that dataset!* which can be found  [here](http://citeseerx.ist.psu.edu/viewdoc/download?doi=10.1.1.208.2314&rep=rep1&type=pdf)"
      ]
    },
    {
      "cell_type": "markdown",
      "metadata": {
        "id": "dtcKVltuyUvP",
        "colab_type": "text"
      },
      "source": [
        "### Mount Google drive"
      ]
    },
    {
      "cell_type": "code",
      "metadata": {
        "id": "4ehadjBcyaAf",
        "colab_type": "code",
        "outputId": "cefe950e-d009-449b-fc9e-58f6531135f0",
        "colab": {
          "base_uri": "https://localhost:8080/",
          "height": 0
        }
      },
      "source": [
        "# Run this cell to mount your Google Drive.\n",
        "from google.colab import drive\n",
        "drive.mount('/content/drive')"
      ],
      "execution_count": 1,
      "outputs": [
        {
          "output_type": "stream",
          "text": [
            "Go to this URL in a browser: https://accounts.google.com/o/oauth2/auth?client_id=947318989803-6bn6qk8qdgf4n4g3pfee6491hc0brc4i.apps.googleusercontent.com&redirect_uri=urn%3Aietf%3Awg%3Aoauth%3A2.0%3Aoob&scope=email%20https%3A%2F%2Fwww.googleapis.com%2Fauth%2Fdocs.test%20https%3A%2F%2Fwww.googleapis.com%2Fauth%2Fdrive%20https%3A%2F%2Fwww.googleapis.com%2Fauth%2Fdrive.photos.readonly%20https%3A%2F%2Fwww.googleapis.com%2Fauth%2Fpeopleapi.readonly&response_type=code\n",
            "\n",
            "Enter your authorization code:\n",
            "··········\n",
            "Mounted at /content/drive\n"
          ],
          "name": "stdout"
        }
      ]
    },
    {
      "cell_type": "markdown",
      "metadata": {
        "id": "0K8k-O3ryJXo",
        "colab_type": "text"
      },
      "source": [
        "###Import Libraries"
      ]
    },
    {
      "cell_type": "code",
      "metadata": {
        "id": "KQDJpJPnyIq5",
        "colab_type": "code",
        "colab": {
          "base_uri": "https://localhost:8080/",
          "height": 0
        },
        "outputId": "a4403f8a-f398-4268-cfcf-637d2b0f3012"
      },
      "source": [
        "import pandas as pd\n",
        "import numpy as np\n",
        "import os\n",
        "from keras.utils import np_utils\n",
        "from sklearn.utils import shuffle, class_weight\n",
        "from PIL import Image\n",
        "from keras.preprocessing import image\n",
        "from collections import Counter\n",
        "import matplotlib.pyplot as plt\n",
        "from sklearn.model_selection import train_test_split\n",
        "import keras\n",
        "from keras.models import Sequential\n",
        "from keras.layers import Activation, Dense, Dropout, Flatten, Conv2D, MaxPooling2D, BatchNormalization\n",
        "from keras.preprocessing.image import ImageDataGenerator, array_to_img, img_to_array, load_img\n",
        "import cv2\n",
        "import shutil\n",
        "from keras.callbacks import ModelCheckpoint\n",
        "from keras import models\n",
        "from sklearn.model_selection import KFold\n",
        "from keras import optimizers\n",
        "from sklearn.metrics import classification_report, precision_recall_fscore_support\n",
        "import sklearn.metrics as metrics\n",
        "from imblearn.keras import BalancedBatchGenerator\n",
        "from sklearn.metrics import roc_auc_score, confusion_matrix, accuracy_score\n",
        "import pandas as pd\n",
        "from pathlib import Path\n",
        "import time\n",
        "import matplotlib.image as mpimg\n",
        "import math\n",
        "import seaborn as sn\n",
        "from mpl_toolkits.axes_grid1 import make_axes_locatable\n",
        "import matplotlib as mpl\n",
        "import itertools\n",
        "import seaborn as sns"
      ],
      "execution_count": 2,
      "outputs": [
        {
          "output_type": "stream",
          "text": [
            "Using TensorFlow backend.\n",
            "/usr/local/lib/python3.6/dist-packages/sklearn/externals/six.py:31: DeprecationWarning: The module is deprecated in version 0.21 and will be removed in version 0.23 since we've dropped support for Python 2.7. Please rely on the official version of six (https://pypi.org/project/six/).\n",
            "  \"(https://pypi.org/project/six/).\", DeprecationWarning)\n"
          ],
          "name": "stderr"
        }
      ]
    },
    {
      "cell_type": "markdown",
      "metadata": {
        "id": "A0VufPXYAE6A",
        "colab_type": "text"
      },
      "source": [
        "###Load data"
      ]
    },
    {
      "cell_type": "code",
      "metadata": {
        "id": "0nUC0o8p8Fn_",
        "colab_type": "code",
        "colab": {}
      },
      "source": [
        "#read dataset with path of images\n",
        "df_melanoma = pd.read_csv('/content/drive/My Drive/meta-learning/df_melanoma_colab.csv')\n",
        "\n",
        "#create dataset name codes\n",
        "dataset_codename = {\n",
        "    'addi-melanoma':1,\n",
        "    'derm7pt-melanoma':2,\n",
        "    'skin-melanoma':3\n",
        "}"
      ],
      "execution_count": 0,
      "outputs": []
    },
    {
      "cell_type": "code",
      "metadata": {
        "id": "R_Tyt9C8V0jc",
        "colab_type": "code",
        "outputId": "8f94875d-b0f6-40ba-dc93-fe201583e6c4",
        "colab": {
          "base_uri": "https://localhost:8080/",
          "height": 34
        }
      },
      "source": [
        "Counter(df_melanoma['dataset-name'])"
      ],
      "execution_count": 4,
      "outputs": [
        {
          "output_type": "execute_result",
          "data": {
            "text/plain": [
              "Counter({'addi-melanoma': 77, 'derm7pt-melanoma': 160, 'skin-melanoma': 89})"
            ]
          },
          "metadata": {
            "tags": []
          },
          "execution_count": 4
        }
      ]
    },
    {
      "cell_type": "markdown",
      "metadata": {
        "id": "7LwpeyBYA8Uk",
        "colab_type": "text"
      },
      "source": [
        "###Functions definition"
      ]
    },
    {
      "cell_type": "code",
      "metadata": {
        "id": "kcj6xvsJc9tz",
        "colab_type": "code",
        "colab": {}
      },
      "source": [
        "#create generators\n",
        "def create_generators(x_train, x_test, label_col):\n",
        "  img_height = 256\n",
        "  img_width = 256\n",
        "  img_dimension = 3\n",
        "\n",
        "  #train datagenerator\n",
        "  datagen = ImageDataGenerator(rescale=1./255, validation_split=0.2)\n",
        "  train_generator = datagen.flow_from_dataframe(\n",
        "          dataframe=x_train,\n",
        "          x_col='path',\n",
        "          y_col=label_col,\n",
        "          subset='training',\n",
        "          target_size=(256, 256),\n",
        "          batch_size=32,\n",
        "          shuffle=True,\n",
        "          color_mode='rgb',\n",
        "          class_mode='categorical')\n",
        "  \n",
        "  #valid datagenerator\n",
        "  valid_generator=datagen.flow_from_dataframe(\n",
        "          dataframe=x_train,\n",
        "          x_col='path',\n",
        "          y_col=label_col,\n",
        "          subset='validation',\n",
        "          target_size=(256,256),\n",
        "          batch_size=32,\n",
        "          shuffle=True,\n",
        "          color_mode='rgb',\n",
        "          class_mode='categorical')\n",
        "\n",
        "  #test datagenerator\n",
        "  testgen = ImageDataGenerator()\n",
        "  test_generator = testgen.flow_from_dataframe(\n",
        "          dataframe=x_test,\n",
        "          x_col='path',\n",
        "          y_col=label_col,\n",
        "          target_size=(256, 256),\n",
        "          batch_size=32,\n",
        "          shuffle=False,\n",
        "          color_mode='rgb',\n",
        "          class_mode='categorical')\n",
        "  \n",
        "  return train_generator, valid_generator, test_generator"
      ],
      "execution_count": 0,
      "outputs": []
    },
    {
      "cell_type": "code",
      "metadata": {
        "id": "jsOAtlCre-Qt",
        "colab_type": "code",
        "colab": {}
      },
      "source": [
        "# create model\n",
        "def create_model():\n",
        "  \n",
        "  model = Sequential()\n",
        "\n",
        "  model.add(Conv2D(16, 9, padding='same', input_shape=(256,256,3), use_bias=False))\n",
        "\n",
        "  model.add(BatchNormalization())\n",
        "  model.add(Activation('relu'))\n",
        "  model.add(MaxPooling2D())\n",
        "\n",
        "\n",
        "  model.add(Flatten())\n",
        "  model.add(Dense(512, activation='sigmoid', use_bias=False))\n",
        "  model.add(BatchNormalization())\n",
        "  model.add(Dropout(0.2))\n",
        "  model.add(Dense(activation='softmax', units=3))\n",
        "\n",
        "  model.compile(loss='categorical_crossentropy', \n",
        "                optimizer = keras.optimizers.SGD(\n",
        "                    lr=0.01, \n",
        "                    momentum=0.9, \n",
        "                    nesterov=True),\n",
        "                metrics=[\"accuracy\"])\n",
        "  \n",
        "  return model"
      ],
      "execution_count": 0,
      "outputs": []
    },
    {
      "cell_type": "code",
      "metadata": {
        "id": "4_bH2dxBiLdN",
        "colab_type": "code",
        "colab": {}
      },
      "source": [
        "# fit model \n",
        "def train_model(model, train_generator, valid_generator, weight_checkpoint):\n",
        "  \n",
        "  nb_epochs = 3 \n",
        "  STEP_SIZE_TRAIN=math.ceil(train_generator.n//nb_epochs)\n",
        "  STEP_SIZE_VALID=math.ceil(valid_generator.n//nb_epochs)\n",
        "  \n",
        "  best_weights_model = model.fit_generator(generator=train_generator,\n",
        "                                           steps_per_epoch=STEP_SIZE_TRAIN,\n",
        "                                           validation_data=valid_generator,\n",
        "                                           validation_steps=STEP_SIZE_VALID,\n",
        "                                           callbacks=[weight_checkpoint],\n",
        "                                           epochs=nb_epochs)\n",
        "  model.load_weights('/content/drive/My Drive/meta-learning/best_weights.hdf5')\n",
        "  \n",
        "  return best_weights_model.history['acc'], best_weights_model.history['loss'], best_weights_model.history['val_acc'], best_weights_model.history['val_loss']"
      ],
      "execution_count": 0,
      "outputs": []
    },
    {
      "cell_type": "code",
      "metadata": {
        "id": "XQn1MN3Q2UUl",
        "colab_type": "code",
        "colab": {}
      },
      "source": [
        "#get predictions\n",
        "def predict_model(model, test_generator):\n",
        "  STEP_SIZE_TEST=math.ceil(test_generator.n/test_generator.batch_size)\n",
        "  true_labels = test_generator.classes\n",
        "  test_generator.reset()\n",
        "\n",
        "  predictions = model.predict_generator(test_generator, steps=STEP_SIZE_TEST) \n",
        "  y_true = true_labels\n",
        "  y_pred = np.array([np.argmax(x) for x in predictions])\n",
        "  return y_true, y_pred"
      ],
      "execution_count": 0,
      "outputs": []
    },
    {
      "cell_type": "code",
      "metadata": {
        "id": "Oek1jQTwFdqM",
        "colab_type": "code",
        "colab": {}
      },
      "source": [
        "#evaluate model\n",
        "def evaluate_model(model, test_generator):#, nb_samples): \n",
        "  STEP_SIZE_TEST=math.ceil(test_generator.n/test_generator.batch_size)\n",
        "\n",
        "  loss, acc = model.evaluate_generator(generator=test_generator, steps=STEP_SIZE_TEST)\n",
        "  return loss, acc"
      ],
      "execution_count": 0,
      "outputs": []
    },
    {
      "cell_type": "code",
      "metadata": {
        "id": "Q6V_mh2KdkYo",
        "colab_type": "code",
        "colab": {}
      },
      "source": [
        "def plot_confusion_matrix(confusion_matrix, class_names):\n",
        "  mpl.style.use('seaborn')\n",
        "  conf_arr = np.array([[88,14,4],[12,85,11],[5,15,91]])\n",
        "  sum = conf_arr.sum()\n",
        "  conf_arr = conf_arr * 100.0 / ( 1.0 * sum )\n",
        "\n",
        "  df_cm = pd.DataFrame(confusion_matrix, index=class_names, columns=class_names)\n",
        "\n",
        "  fig = plt.figure()\n",
        "  plt.clf()\n",
        "  ax = fig.add_subplot(111)\n",
        "  ax.set_aspect(1)\n",
        "\n",
        "  cmap = sns.cubehelix_palette(rot=-.4)\n",
        "  res = sn.heatmap(df_cm, annot=True, vmin=0.0, vmax=100.0, fmt='d', cmap=cmap)\n",
        "  res.invert_yaxis()\n",
        "  plt.yticks([0.5,1.5,2.5], class_names, va='center')\n",
        "  plt.title('Confusion Matrix')\n",
        "\n",
        "  #plt.savefig('confusion_matrix.png', dpi=100, bbox_inches='tight' )\n",
        "  #plt.close()"
      ],
      "execution_count": 0,
      "outputs": []
    },
    {
      "cell_type": "code",
      "metadata": {
        "id": "YF8ZrGaGgyBH",
        "colab_type": "code",
        "colab": {}
      },
      "source": [
        "#plot classification report\n",
        "def plot_classification_report(y_true, y_pred, class_names, figsize=(10, 10), ax=None):\n",
        "\n",
        "    plt.figure(figsize=figsize)\n",
        "\n",
        "    xticks = ['precision', 'recall', 'f1-score', 'support']\n",
        "    yticks = class_names\n",
        "\n",
        "    rep = np.array(precision_recall_fscore_support(y_true, y_pred)).T\n",
        "    avg = np.mean(rep, axis=0)\n",
        "    avg[-1] = np.sum(rep[:, -1])\n",
        "    rep = np.insert(rep, rep.shape[0], avg, axis=0)\n",
        "\n",
        "    cmap = sns.color_palette(\"ch:2.8,-.2,dark=.27\")\n",
        "    sns.heatmap(rep,\n",
        "                annot=True, \n",
        "                cbar=False, \n",
        "                xticklabels=xticks, \n",
        "                yticklabels=yticks,\n",
        "                fmt='.2f',\n",
        "                cmap=cmap,\n",
        "                ax=ax)"
      ],
      "execution_count": 0,
      "outputs": []
    },
    {
      "cell_type": "code",
      "metadata": {
        "id": "wHcOeG_EAemH",
        "colab_type": "code",
        "colab": {}
      },
      "source": [
        "def experimento_1(dataset):\n",
        "  \n",
        "  \n",
        "  #split dataset into test and train set\n",
        "  X_train, X_test, y_train, y_test = train_test_split(dataset['path'], dataset['dataset-name'], test_size=0.2, random_state=42)\n",
        "  X_train = dataset.loc[dataset['path'].isin(X_train)]\n",
        "  X_test = dataset.loc[dataset['path'].isin(X_test)]\n",
        "  \n",
        "  #set weight checkpoint file\n",
        "  weight_checkpoint = ModelCheckpoint(filepath='/content/drive/My Drive/meta-learning/best_weights.hdf5', \n",
        "                               monitor = 'val_acc',\n",
        "                               verbose=1, \n",
        "                               save_best_only=True)\n",
        "  \n",
        "  \n",
        "  #create and evaluate model\n",
        "  model = create_model()\n",
        "  train_generator, valid_generator, test_generator = create_generators(X_train, X_test, 'dataset-name')\n",
        "\n",
        "  \n",
        "  acc, loss, val_acc, val_loss = train_model(model, train_generator, valid_generator, weight_checkpoint)\n",
        "  actual, predicted = predict_model(model, test_generator)\n",
        "  loss_eval, acc_eval = evaluate_model(model, test_generator)\n",
        "  \n",
        "  \n",
        "  return acc, loss, val_acc, val_loss, acc_eval, loss_eval, actual, predicted, model"
      ],
      "execution_count": 0,
      "outputs": []
    },
    {
      "cell_type": "code",
      "metadata": {
        "id": "G-NAh8aif5VO",
        "colab_type": "code",
        "outputId": "b37435a0-692e-46f7-a720-c3abcb3b7db5",
        "colab": {
          "base_uri": "https://localhost:8080/",
          "height": 272
        }
      },
      "source": [
        "acc, loss, val_acc, val_loss, acc_eval, loss_eval, actual, predicted, model = experimento_1(df_melanoma)"
      ],
      "execution_count": 27,
      "outputs": [
        {
          "output_type": "stream",
          "text": [
            "Found 208 validated image filenames belonging to 3 classes.\n",
            "Found 52 validated image filenames belonging to 3 classes.\n",
            "Found 66 validated image filenames belonging to 3 classes.\n",
            "Epoch 1/3\n",
            "69/69 [==============================] - 249s 4s/step - loss: 0.4714 - acc: 0.8990 - val_loss: 2.6757 - val_acc: 0.3460\n",
            "\n",
            "Epoch 00001: val_acc improved from -inf to 0.34598, saving model to /content/drive/My Drive/meta-learning/best_weights.hdf5\n",
            "Epoch 2/3\n",
            "69/69 [==============================] - 234s 3s/step - loss: 0.0727 - acc: 0.9806 - val_loss: 2.2201 - val_acc: 0.2913\n",
            "\n",
            "Epoch 00002: val_acc did not improve from 0.34598\n",
            "Epoch 3/3\n",
            "69/69 [==============================] - 232s 3s/step - loss: 0.1121 - acc: 0.9683 - val_loss: 4.2585 - val_acc: 0.3147\n",
            "\n",
            "Epoch 00003: val_acc did not improve from 0.34598\n"
          ],
          "name": "stdout"
        }
      ]
    },
    {
      "cell_type": "code",
      "metadata": {
        "id": "7GcX1odUiIx-",
        "colab_type": "code",
        "outputId": "28b6c24b-63d4-432b-eff5-db0c99e049ee",
        "colab": {
          "base_uri": "https://localhost:8080/",
          "height": 545
        }
      },
      "source": [
        "#plot curves of loss and accuracy during training\n",
        "model.load_weights('/content/drive/My Drive/meta-learning/best_weights.hdf5')\n",
        "acc = model.history.history['acc']\n",
        "val_acc = model.history.history['val_acc']\n",
        "loss = model.history.history['loss']\n",
        "val_loss = model.history.history['val_loss']\n",
        "epochs = range(1, len(acc) + 1)\n",
        "plt.plot(epochs, acc, 'g', label='Training acc')\n",
        "plt.plot(epochs, val_acc, 'b', label='Validation acc')\n",
        "plt.title('Training and validation accuracy')\n",
        "plt.legend()\n",
        "plt.figure()\n",
        "plt.plot(epochs, loss, 'g', label='Training loss')\n",
        "plt.plot(epochs, val_loss, 'b', label='Validation loss')\n",
        "plt.title('Training and validation loss')\n",
        "plt.legend()\n",
        "plt.show()"
      ],
      "execution_count": 29,
      "outputs": [
        {
          "output_type": "display_data",
          "data": {
            "image/png": "[encoded data removed]",
            "text/plain": [
              "<Figure size 432x288 with 1 Axes>"
            ]
          },
          "metadata": {
            "tags": []
          }
        },
        {
          "output_type": "display_data",
          "data": {
            "image/png": "[encoded data removed]",
            "text/plain": [
              "<Figure size 432x288 with 1 Axes>"
            ]
          },
          "metadata": {
            "tags": []
          }
        }
      ]
    },
    {
      "cell_type": "code",
      "metadata": {
        "id": "iYq2YrYzNzVY",
        "colab_type": "code",
        "colab": {
          "base_uri": "https://localhost:8080/",
          "height": 362
        },
        "outputId": "7f237e06-ebdf-46c2-e5e0-4e5fb5c24dee"
      },
      "source": [
        "#plot confusion matrix\n",
        "plot_confusion_matrix(confusion_matrix(actual, predicted), dataset_codename)"
      ],
      "execution_count": 30,
      "outputs": [
        {
          "output_type": "display_data",
          "data": {
            "image/png": "[encoded data removed]",
            "text/plain": [
              "<Figure size 576x396 with 2 Axes>"
            ]
          },
          "metadata": {
            "tags": []
          }
        }
      ]
    },
    {
      "cell_type": "code",
      "metadata": {
        "id": "BDl18g6KN68-",
        "colab_type": "code",
        "colab": {
          "base_uri": "https://localhost:8080/",
          "height": 626
        },
        "outputId": "964260e5-8fa8-488c-9979-1fd3621971ed"
      },
      "source": [
        "#plot classification report\n",
        "plot_classification_report(actual, predicted, dataset_codename)"
      ],
      "execution_count": 31,
      "outputs": [
        {
          "output_type": "stream",
          "text": [
            "/usr/local/lib/python3.6/dist-packages/sklearn/metrics/classification.py:1437: UndefinedMetricWarning: Precision and F-score are ill-defined and being set to 0.0 in labels with no predicted samples.\n",
            "  'precision', 'predicted', average, warn_for)\n"
          ],
          "name": "stderr"
        },
        {
          "output_type": "display_data",
          "data": {
            "image/png": "[encoded data removed]",
            "text/plain": [
              "<Figure size 720x720 with 1 Axes>"
            ]
          },
          "metadata": {
            "tags": []
          }
        }
      ]
    },
    {
      "cell_type": "code",
      "metadata": {
        "id": "xFmiGkoTOURn",
        "colab_type": "code",
        "colab": {
          "base_uri": "https://localhost:8080/",
          "height": 364
        },
        "outputId": "bca2b1e3-11af-4282-c786-3db8af99e0c7"
      },
      "source": [
        "#plot AUC ROC\n",
        "fpr, tpr, thresholds = metrics.roc_curve(actual, predicted, pos_label=0)\n",
        "\n",
        "#plot ROC\n",
        "plt.plot(fpr,tpr)\n",
        "plt.show() \n",
        "\n",
        "#plot AUC\n",
        "auc = np.trapz(tpr,fpr)\n",
        "print('AUC:', auc)"
      ],
      "execution_count": 32,
      "outputs": [
        {
          "output_type": "display_data",
          "data": {
            "image/png": "[encoded data removed]",
            "text/plain": [
              "<Figure size 576x396 with 1 Axes>"
            ]
          },
          "metadata": {
            "tags": []
          }
        },
        {
          "output_type": "stream",
          "text": [
            "AUC: 0.5\n"
          ],
          "name": "stdout"
        }
      ]
    }
  ]
}